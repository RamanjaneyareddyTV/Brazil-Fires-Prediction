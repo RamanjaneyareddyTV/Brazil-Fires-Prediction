{
 "cells": [
  {
   "cell_type": "markdown",
   "id": "8d75a6a2",
   "metadata": {
    "_cell_guid": "b1076dfc-b9ad-4769-8c92-a6c4dae69d19",
    "_uuid": "8f2839f25d086af736a60e9eeb907d3b93b6e0e5",
    "papermill": {
     "duration": 0.060636,
     "end_time": "2021-07-20T06:01:53.353878",
     "exception": false,
     "start_time": "2021-07-20T06:01:53.293242",
     "status": "completed"
    },
    "tags": []
   },
   "source": [
    "# **BRAZIL FIRES PREDICTION**"
   ]
  },
  {
   "cell_type": "markdown",
   "id": "5d8e186c",
   "metadata": {
    "papermill": {
     "duration": 0.072416,
     "end_time": "2021-07-20T06:01:53.490975",
     "exception": false,
     "start_time": "2021-07-20T06:01:53.418559",
     "status": "completed"
    },
    "tags": []
   },
   "source": [
    "![](https://www.fodors.com/wp-content/uploads/2020/11/brazil-fire-1.jpg)"
   ]
  },
  {
   "cell_type": "markdown",
   "id": "c449ec9d",
   "metadata": {
    "papermill": {
     "duration": 0.059498,
     "end_time": "2021-07-20T06:01:53.616516",
     "exception": false,
     "start_time": "2021-07-20T06:01:53.557018",
     "status": "completed"
    },
    "tags": []
   },
   "source": [
    "# IMPORTING THE LIBRARIES"
   ]
  },
  {
   "cell_type": "code",
   "execution_count": 1,
   "id": "622e41bf",
   "metadata": {
    "papermill": {
     "duration": 1.146932,
     "end_time": "2021-07-20T06:01:54.824285",
     "exception": false,
     "start_time": "2021-07-20T06:01:53.677353",
     "status": "completed"
    },
    "tags": []
   },
   "outputs": [],
   "source": [
    "import numpy as np\n",
    "import pandas as pd\n",
    "import matplotlib.pyplot as plt\n",
    "import seaborn as sns\n",
    "import os\n",
    "import scipy as sp\n",
    "import warnings\n",
    "import datetime\n",
    "warnings.filterwarnings(\"ignore\")\n",
    "%matplotlib inline"
   ]
  },
  {
   "cell_type": "markdown",
   "id": "7071c81d",
   "metadata": {
    "papermill": {
     "duration": 0.060177,
     "end_time": "2021-07-20T06:01:54.944777",
     "exception": false,
     "start_time": "2021-07-20T06:01:54.884600",
     "status": "completed"
    },
    "tags": []
   },
   "source": [
    "# LOADING THE DATASET"
   ]
  },
  {
   "cell_type": "code",
   "execution_count": 2,
   "id": "dd19fd37",
   "metadata": {
    "papermill": {
     "duration": 0.093708,
     "end_time": "2021-07-20T06:01:55.098063",
     "exception": false,
     "start_time": "2021-07-20T06:01:55.004355",
     "status": "completed"
    },
    "tags": []
   },
   "outputs": [],
   "source": [
    "data= pd.read_csv('D:/ML/Brazil Fires Prediction/Dataset/amazon.csv', encoding='latin-1')"
   ]
  },
  {
   "cell_type": "code",
   "execution_count": 3,
   "id": "23e2fa4b",
   "metadata": {
    "papermill": {
     "duration": 0.09211,
     "end_time": "2021-07-20T06:01:55.250084",
     "exception": false,
     "start_time": "2021-07-20T06:01:55.157974",
     "status": "completed"
    },
    "tags": []
   },
   "outputs": [
    {
     "data": {
      "text/html": [
       "<div>\n",
       "<style scoped>\n",
       "    .dataframe tbody tr th:only-of-type {\n",
       "        vertical-align: middle;\n",
       "    }\n",
       "\n",
       "    .dataframe tbody tr th {\n",
       "        vertical-align: top;\n",
       "    }\n",
       "\n",
       "    .dataframe thead th {\n",
       "        text-align: right;\n",
       "    }\n",
       "</style>\n",
       "<table border=\"1\" class=\"dataframe\">\n",
       "  <thead>\n",
       "    <tr style=\"text-align: right;\">\n",
       "      <th></th>\n",
       "      <th>year</th>\n",
       "      <th>state</th>\n",
       "      <th>month</th>\n",
       "      <th>number</th>\n",
       "      <th>date</th>\n",
       "    </tr>\n",
       "  </thead>\n",
       "  <tbody>\n",
       "    <tr>\n",
       "      <th>0</th>\n",
       "      <td>1998</td>\n",
       "      <td>Acre</td>\n",
       "      <td>Janeiro</td>\n",
       "      <td>0.0</td>\n",
       "      <td>1998-01-01</td>\n",
       "    </tr>\n",
       "    <tr>\n",
       "      <th>1</th>\n",
       "      <td>1999</td>\n",
       "      <td>Acre</td>\n",
       "      <td>Janeiro</td>\n",
       "      <td>0.0</td>\n",
       "      <td>1999-01-01</td>\n",
       "    </tr>\n",
       "    <tr>\n",
       "      <th>2</th>\n",
       "      <td>2000</td>\n",
       "      <td>Acre</td>\n",
       "      <td>Janeiro</td>\n",
       "      <td>0.0</td>\n",
       "      <td>2000-01-01</td>\n",
       "    </tr>\n",
       "    <tr>\n",
       "      <th>3</th>\n",
       "      <td>2001</td>\n",
       "      <td>Acre</td>\n",
       "      <td>Janeiro</td>\n",
       "      <td>0.0</td>\n",
       "      <td>2001-01-01</td>\n",
       "    </tr>\n",
       "    <tr>\n",
       "      <th>4</th>\n",
       "      <td>2002</td>\n",
       "      <td>Acre</td>\n",
       "      <td>Janeiro</td>\n",
       "      <td>0.0</td>\n",
       "      <td>2002-01-01</td>\n",
       "    </tr>\n",
       "  </tbody>\n",
       "</table>\n",
       "</div>"
      ],
      "text/plain": [
       "   year state    month  number        date\n",
       "0  1998  Acre  Janeiro     0.0  1998-01-01\n",
       "1  1999  Acre  Janeiro     0.0  1999-01-01\n",
       "2  2000  Acre  Janeiro     0.0  2000-01-01\n",
       "3  2001  Acre  Janeiro     0.0  2001-01-01\n",
       "4  2002  Acre  Janeiro     0.0  2002-01-01"
      ]
     },
     "execution_count": 3,
     "metadata": {},
     "output_type": "execute_result"
    }
   ],
   "source": [
    "data.head()"
   ]
  },
  {
   "cell_type": "code",
   "execution_count": 4,
   "id": "2c4a6b3a",
   "metadata": {
    "papermill": {
     "duration": 0.087331,
     "end_time": "2021-07-20T06:01:55.397993",
     "exception": false,
     "start_time": "2021-07-20T06:01:55.310662",
     "status": "completed"
    },
    "tags": []
   },
   "outputs": [
    {
     "data": {
      "text/html": [
       "<div>\n",
       "<style scoped>\n",
       "    .dataframe tbody tr th:only-of-type {\n",
       "        vertical-align: middle;\n",
       "    }\n",
       "\n",
       "    .dataframe tbody tr th {\n",
       "        vertical-align: top;\n",
       "    }\n",
       "\n",
       "    .dataframe thead th {\n",
       "        text-align: right;\n",
       "    }\n",
       "</style>\n",
       "<table border=\"1\" class=\"dataframe\">\n",
       "  <thead>\n",
       "    <tr style=\"text-align: right;\">\n",
       "      <th></th>\n",
       "      <th>year</th>\n",
       "      <th>number</th>\n",
       "    </tr>\n",
       "  </thead>\n",
       "  <tbody>\n",
       "    <tr>\n",
       "      <th>count</th>\n",
       "      <td>6454.000000</td>\n",
       "      <td>6454.000000</td>\n",
       "    </tr>\n",
       "    <tr>\n",
       "      <th>mean</th>\n",
       "      <td>2007.461729</td>\n",
       "      <td>108.293163</td>\n",
       "    </tr>\n",
       "    <tr>\n",
       "      <th>std</th>\n",
       "      <td>5.746654</td>\n",
       "      <td>190.812242</td>\n",
       "    </tr>\n",
       "    <tr>\n",
       "      <th>min</th>\n",
       "      <td>1998.000000</td>\n",
       "      <td>0.000000</td>\n",
       "    </tr>\n",
       "    <tr>\n",
       "      <th>25%</th>\n",
       "      <td>2002.000000</td>\n",
       "      <td>3.000000</td>\n",
       "    </tr>\n",
       "    <tr>\n",
       "      <th>50%</th>\n",
       "      <td>2007.000000</td>\n",
       "      <td>24.000000</td>\n",
       "    </tr>\n",
       "    <tr>\n",
       "      <th>75%</th>\n",
       "      <td>2012.000000</td>\n",
       "      <td>113.000000</td>\n",
       "    </tr>\n",
       "    <tr>\n",
       "      <th>max</th>\n",
       "      <td>2017.000000</td>\n",
       "      <td>998.000000</td>\n",
       "    </tr>\n",
       "  </tbody>\n",
       "</table>\n",
       "</div>"
      ],
      "text/plain": [
       "              year       number\n",
       "count  6454.000000  6454.000000\n",
       "mean   2007.461729   108.293163\n",
       "std       5.746654   190.812242\n",
       "min    1998.000000     0.000000\n",
       "25%    2002.000000     3.000000\n",
       "50%    2007.000000    24.000000\n",
       "75%    2012.000000   113.000000\n",
       "max    2017.000000   998.000000"
      ]
     },
     "execution_count": 4,
     "metadata": {},
     "output_type": "execute_result"
    }
   ],
   "source": [
    "data.describe()"
   ]
  },
  {
   "cell_type": "code",
   "execution_count": 5,
   "id": "28c9e68e",
   "metadata": {
    "papermill": {
     "duration": 0.084909,
     "end_time": "2021-07-20T06:01:55.543236",
     "exception": false,
     "start_time": "2021-07-20T06:01:55.458327",
     "status": "completed"
    },
    "tags": []
   },
   "outputs": [
    {
     "name": "stdout",
     "output_type": "stream",
     "text": [
      "<class 'pandas.core.frame.DataFrame'>\n",
      "RangeIndex: 6454 entries, 0 to 6453\n",
      "Data columns (total 5 columns):\n",
      " #   Column  Non-Null Count  Dtype  \n",
      "---  ------  --------------  -----  \n",
      " 0   year    6454 non-null   int64  \n",
      " 1   state   6454 non-null   object \n",
      " 2   month   6454 non-null   object \n",
      " 3   number  6454 non-null   float64\n",
      " 4   date    6454 non-null   object \n",
      "dtypes: float64(1), int64(1), object(3)\n",
      "memory usage: 252.2+ KB\n"
     ]
    }
   ],
   "source": [
    "data.info()"
   ]
  },
  {
   "cell_type": "code",
   "execution_count": 6,
   "id": "b35dab0f",
   "metadata": {
    "papermill": {
     "duration": 0.076998,
     "end_time": "2021-07-20T06:01:55.681548",
     "exception": false,
     "start_time": "2021-07-20T06:01:55.604550",
     "status": "completed"
    },
    "tags": []
   },
   "outputs": [
    {
     "data": {
      "text/plain": [
       "<bound method DataFrame.value_counts of       year      state     month  number        date\n",
       "0     1998       Acre   Janeiro     0.0  1998-01-01\n",
       "1     1999       Acre   Janeiro     0.0  1999-01-01\n",
       "2     2000       Acre   Janeiro     0.0  2000-01-01\n",
       "3     2001       Acre   Janeiro     0.0  2001-01-01\n",
       "4     2002       Acre   Janeiro     0.0  2002-01-01\n",
       "...    ...        ...       ...     ...         ...\n",
       "6449  2012  Tocantins  Dezembro   128.0  2012-01-01\n",
       "6450  2013  Tocantins  Dezembro    85.0  2013-01-01\n",
       "6451  2014  Tocantins  Dezembro   223.0  2014-01-01\n",
       "6452  2015  Tocantins  Dezembro   373.0  2015-01-01\n",
       "6453  2016  Tocantins  Dezembro   119.0  2016-01-01\n",
       "\n",
       "[6454 rows x 5 columns]>"
      ]
     },
     "execution_count": 6,
     "metadata": {},
     "output_type": "execute_result"
    }
   ],
   "source": [
    "data.value_counts"
   ]
  },
  {
   "cell_type": "code",
   "execution_count": 7,
   "id": "a7de76f1",
   "metadata": {
    "papermill": {
     "duration": 0.070131,
     "end_time": "2021-07-20T06:01:55.813903",
     "exception": false,
     "start_time": "2021-07-20T06:01:55.743772",
     "status": "completed"
    },
    "tags": []
   },
   "outputs": [
    {
     "data": {
      "text/plain": [
       "(6454, 5)"
      ]
     },
     "execution_count": 7,
     "metadata": {},
     "output_type": "execute_result"
    }
   ],
   "source": [
    "data.shape"
   ]
  },
  {
   "cell_type": "code",
   "execution_count": 8,
   "id": "786bd6be",
   "metadata": {
    "papermill": {
     "duration": 0.074061,
     "end_time": "2021-07-20T06:01:55.949422",
     "exception": false,
     "start_time": "2021-07-20T06:01:55.875361",
     "status": "completed"
    },
    "tags": []
   },
   "outputs": [
    {
     "data": {
      "text/plain": [
       "Index(['year', 'state', 'month', 'number', 'date'], dtype='object')"
      ]
     },
     "execution_count": 8,
     "metadata": {},
     "output_type": "execute_result"
    }
   ],
   "source": [
    "data.columns"
   ]
  },
  {
   "cell_type": "code",
   "execution_count": 9,
   "id": "7949bfc8",
   "metadata": {
    "papermill": {
     "duration": 0.072004,
     "end_time": "2021-07-20T06:01:56.083884",
     "exception": false,
     "start_time": "2021-07-20T06:01:56.011880",
     "status": "completed"
    },
    "tags": []
   },
   "outputs": [
    {
     "data": {
      "text/plain": [
       "year        int64\n",
       "state      object\n",
       "month      object\n",
       "number    float64\n",
       "date       object\n",
       "dtype: object"
      ]
     },
     "execution_count": 9,
     "metadata": {},
     "output_type": "execute_result"
    }
   ],
   "source": [
    "data.dtypes"
   ]
  },
  {
   "cell_type": "markdown",
   "id": "b8863b9b",
   "metadata": {
    "papermill": {
     "duration": 0.062703,
     "end_time": "2021-07-20T06:01:56.209136",
     "exception": false,
     "start_time": "2021-07-20T06:01:56.146433",
     "status": "completed"
    },
    "tags": []
   },
   "source": [
    "**Checking Null Values**\n",
    "\n"
   ]
  },
  {
   "cell_type": "code",
   "execution_count": 10,
   "id": "393c2343",
   "metadata": {
    "papermill": {
     "duration": 0.075678,
     "end_time": "2021-07-20T06:01:56.349075",
     "exception": false,
     "start_time": "2021-07-20T06:01:56.273397",
     "status": "completed"
    },
    "tags": []
   },
   "outputs": [
    {
     "data": {
      "text/plain": [
       "year      0\n",
       "state     0\n",
       "month     0\n",
       "number    0\n",
       "date      0\n",
       "dtype: int64"
      ]
     },
     "execution_count": 10,
     "metadata": {},
     "output_type": "execute_result"
    }
   ],
   "source": [
    "data.isnull().sum()"
   ]
  },
  {
   "cell_type": "code",
   "execution_count": 11,
   "id": "32304e6e",
   "metadata": {
    "papermill": {
     "duration": 0.076148,
     "end_time": "2021-07-20T06:01:56.488854",
     "exception": false,
     "start_time": "2021-07-20T06:01:56.412706",
     "status": "completed"
    },
    "tags": []
   },
   "outputs": [
    {
     "data": {
      "text/plain": [
       "year      False\n",
       "state     False\n",
       "month     False\n",
       "number    False\n",
       "date      False\n",
       "dtype: bool"
      ]
     },
     "execution_count": 11,
     "metadata": {},
     "output_type": "execute_result"
    }
   ],
   "source": [
    "data.isnull().any()"
   ]
  },
  {
   "cell_type": "code",
   "execution_count": 12,
   "id": "f0fbedda",
   "metadata": {
    "papermill": {
     "duration": 0.079266,
     "end_time": "2021-07-20T06:01:56.631292",
     "exception": false,
     "start_time": "2021-07-20T06:01:56.552026",
     "status": "completed"
    },
    "tags": []
   },
   "outputs": [],
   "source": [
    "data.drop_duplicates(inplace = True)\n"
   ]
  },
  {
   "cell_type": "code",
   "execution_count": 13,
   "id": "07724f1e",
   "metadata": {
    "papermill": {
     "duration": 0.070026,
     "end_time": "2021-07-20T06:01:56.765427",
     "exception": false,
     "start_time": "2021-07-20T06:01:56.695401",
     "status": "completed"
    },
    "tags": []
   },
   "outputs": [],
   "source": [
    "#lets find the categorialfeatures\n",
    "list_1=list(data.columns)"
   ]
  },
  {
   "cell_type": "code",
   "execution_count": 14,
   "id": "0d6a8ba5",
   "metadata": {
    "papermill": {
     "duration": 0.074431,
     "end_time": "2021-07-20T06:01:56.903938",
     "exception": false,
     "start_time": "2021-07-20T06:01:56.829507",
     "status": "completed"
    },
    "tags": []
   },
   "outputs": [],
   "source": [
    "list_cate=[]\n",
    "for i in list_1:\n",
    "    if data[i].dtype=='object':\n",
    "        list_cate.append(i)\n"
   ]
  },
  {
   "cell_type": "code",
   "execution_count": 15,
   "id": "e346adfd",
   "metadata": {
    "papermill": {
     "duration": 0.210112,
     "end_time": "2021-07-20T06:01:57.176837",
     "exception": false,
     "start_time": "2021-07-20T06:01:56.966725",
     "status": "completed"
    },
    "tags": []
   },
   "outputs": [],
   "source": [
    "from sklearn.preprocessing import LabelEncoder\n",
    "le=LabelEncoder()\n"
   ]
  },
  {
   "cell_type": "code",
   "execution_count": 16,
   "id": "af6743df",
   "metadata": {
    "papermill": {
     "duration": 0.080543,
     "end_time": "2021-07-20T06:01:57.320938",
     "exception": false,
     "start_time": "2021-07-20T06:01:57.240395",
     "status": "completed"
    },
    "tags": []
   },
   "outputs": [],
   "source": [
    "for i in list_cate:\n",
    "    data[i]=le.fit_transform(data[i])\n"
   ]
  },
  {
   "cell_type": "code",
   "execution_count": 17,
   "id": "af264330",
   "metadata": {
    "papermill": {
     "duration": 0.086554,
     "end_time": "2021-07-20T06:01:57.473814",
     "exception": false,
     "start_time": "2021-07-20T06:01:57.387260",
     "status": "completed"
    },
    "tags": []
   },
   "outputs": [
    {
     "data": {
      "text/html": [
       "<div>\n",
       "<style scoped>\n",
       "    .dataframe tbody tr th:only-of-type {\n",
       "        vertical-align: middle;\n",
       "    }\n",
       "\n",
       "    .dataframe tbody tr th {\n",
       "        vertical-align: top;\n",
       "    }\n",
       "\n",
       "    .dataframe thead th {\n",
       "        text-align: right;\n",
       "    }\n",
       "</style>\n",
       "<table border=\"1\" class=\"dataframe\">\n",
       "  <thead>\n",
       "    <tr style=\"text-align: right;\">\n",
       "      <th></th>\n",
       "      <th>year</th>\n",
       "      <th>state</th>\n",
       "      <th>month</th>\n",
       "      <th>number</th>\n",
       "      <th>date</th>\n",
       "    </tr>\n",
       "  </thead>\n",
       "  <tbody>\n",
       "    <tr>\n",
       "      <th>0</th>\n",
       "      <td>1998</td>\n",
       "      <td>0</td>\n",
       "      <td>4</td>\n",
       "      <td>0.0</td>\n",
       "      <td>0</td>\n",
       "    </tr>\n",
       "    <tr>\n",
       "      <th>1</th>\n",
       "      <td>1999</td>\n",
       "      <td>0</td>\n",
       "      <td>4</td>\n",
       "      <td>0.0</td>\n",
       "      <td>1</td>\n",
       "    </tr>\n",
       "    <tr>\n",
       "      <th>2</th>\n",
       "      <td>2000</td>\n",
       "      <td>0</td>\n",
       "      <td>4</td>\n",
       "      <td>0.0</td>\n",
       "      <td>2</td>\n",
       "    </tr>\n",
       "    <tr>\n",
       "      <th>3</th>\n",
       "      <td>2001</td>\n",
       "      <td>0</td>\n",
       "      <td>4</td>\n",
       "      <td>0.0</td>\n",
       "      <td>3</td>\n",
       "    </tr>\n",
       "    <tr>\n",
       "      <th>4</th>\n",
       "      <td>2002</td>\n",
       "      <td>0</td>\n",
       "      <td>4</td>\n",
       "      <td>0.0</td>\n",
       "      <td>4</td>\n",
       "    </tr>\n",
       "    <tr>\n",
       "      <th>...</th>\n",
       "      <td>...</td>\n",
       "      <td>...</td>\n",
       "      <td>...</td>\n",
       "      <td>...</td>\n",
       "      <td>...</td>\n",
       "    </tr>\n",
       "    <tr>\n",
       "      <th>6449</th>\n",
       "      <td>2012</td>\n",
       "      <td>22</td>\n",
       "      <td>2</td>\n",
       "      <td>128.0</td>\n",
       "      <td>14</td>\n",
       "    </tr>\n",
       "    <tr>\n",
       "      <th>6450</th>\n",
       "      <td>2013</td>\n",
       "      <td>22</td>\n",
       "      <td>2</td>\n",
       "      <td>85.0</td>\n",
       "      <td>15</td>\n",
       "    </tr>\n",
       "    <tr>\n",
       "      <th>6451</th>\n",
       "      <td>2014</td>\n",
       "      <td>22</td>\n",
       "      <td>2</td>\n",
       "      <td>223.0</td>\n",
       "      <td>16</td>\n",
       "    </tr>\n",
       "    <tr>\n",
       "      <th>6452</th>\n",
       "      <td>2015</td>\n",
       "      <td>22</td>\n",
       "      <td>2</td>\n",
       "      <td>373.0</td>\n",
       "      <td>17</td>\n",
       "    </tr>\n",
       "    <tr>\n",
       "      <th>6453</th>\n",
       "      <td>2016</td>\n",
       "      <td>22</td>\n",
       "      <td>2</td>\n",
       "      <td>119.0</td>\n",
       "      <td>18</td>\n",
       "    </tr>\n",
       "  </tbody>\n",
       "</table>\n",
       "<p>6422 rows × 5 columns</p>\n",
       "</div>"
      ],
      "text/plain": [
       "      year  state  month  number  date\n",
       "0     1998      0      4     0.0     0\n",
       "1     1999      0      4     0.0     1\n",
       "2     2000      0      4     0.0     2\n",
       "3     2001      0      4     0.0     3\n",
       "4     2002      0      4     0.0     4\n",
       "...    ...    ...    ...     ...   ...\n",
       "6449  2012     22      2   128.0    14\n",
       "6450  2013     22      2    85.0    15\n",
       "6451  2014     22      2   223.0    16\n",
       "6452  2015     22      2   373.0    17\n",
       "6453  2016     22      2   119.0    18\n",
       "\n",
       "[6422 rows x 5 columns]"
      ]
     },
     "execution_count": 17,
     "metadata": {},
     "output_type": "execute_result"
    }
   ],
   "source": [
    "data"
   ]
  },
  {
   "cell_type": "markdown",
   "id": "5cda6975",
   "metadata": {
    "papermill": {
     "duration": 0.063062,
     "end_time": "2021-07-20T06:01:57.601274",
     "exception": false,
     "start_time": "2021-07-20T06:01:57.538212",
     "status": "completed"
    },
    "tags": []
   },
   "source": [
    "# **Exploratory Data Analysis**"
   ]
  },
  {
   "cell_type": "markdown",
   "id": "ef317c6a",
   "metadata": {
    "papermill": {
     "duration": 0.062817,
     "end_time": "2021-07-20T06:01:57.728347",
     "exception": false,
     "start_time": "2021-07-20T06:01:57.665530",
     "status": "completed"
    },
    "tags": []
   },
   "source": [
    "**HISTOGRAM**\n",
    "\n",
    "**A histogram is basically used to represent data provided in a form of some groups.It is accurate method for the graphical representation of numerical data distribution.It is a type of bar plot where X-axis represents the bin ranges while Y-axis gives information about frequency.**\n",
    "\n"
   ]
  },
  {
   "cell_type": "code",
   "execution_count": 18,
   "id": "8b33a894",
   "metadata": {
    "papermill": {
     "duration": 0.900437,
     "end_time": "2021-07-20T06:01:58.691658",
     "exception": false,
     "start_time": "2021-07-20T06:01:57.791221",
     "status": "completed"
    },
    "tags": []
   },
   "outputs": [
    {
     "data": {
      "image/png": "[encoded data removed]",
      "text/plain": [
       "<Figure size 1440x1008 with 6 Axes>"
      ]
     },
     "metadata": {
      "needs_background": "light"
     },
     "output_type": "display_data"
    }
   ],
   "source": [
    "data.hist(figsize=(20,14),color='g')\n",
    "plt.show()\n"
   ]
  },
  {
   "cell_type": "markdown",
   "id": "15967ef9",
   "metadata": {
    "papermill": {
     "duration": 0.064596,
     "end_time": "2021-07-20T06:01:58.822012",
     "exception": false,
     "start_time": "2021-07-20T06:01:58.757416",
     "status": "completed"
    },
    "tags": []
   },
   "source": [
    "![](https://hwnews.in/wp-content/uploads/2019/08/Amazon-forest-fire-960x540.jpg)"
   ]
  },
  {
   "cell_type": "code",
   "execution_count": 19,
   "id": "fb7916dc",
   "metadata": {
    "papermill": {
     "duration": 0.076007,
     "end_time": "2021-07-20T06:01:58.963686",
     "exception": false,
     "start_time": "2021-07-20T06:01:58.887679",
     "status": "completed"
    },
    "tags": []
   },
   "outputs": [
    {
     "data": {
      "text/plain": [
       "Index(['year', 'state', 'month', 'number', 'date'], dtype='object')"
      ]
     },
     "execution_count": 19,
     "metadata": {},
     "output_type": "execute_result"
    }
   ],
   "source": [
    "data.columns"
   ]
  },
  {
   "cell_type": "markdown",
   "id": "dce2f564",
   "metadata": {
    "papermill": {
     "duration": 0.065157,
     "end_time": "2021-07-20T06:01:59.094752",
     "exception": false,
     "start_time": "2021-07-20T06:01:59.029595",
     "status": "completed"
    },
    "tags": []
   },
   "source": [
    "**BOXPLOT**\n",
    "\n",
    "**A boxplot is a standardized way of displaying the distribution of data based on a five number summary (“minimum”, first quartile (Q1), median, third quartile (Q3), and “maximum”). ... It can also tell you if your data is symmetrical, how tightly your data is grouped, and if and how your data is skewed.**\n",
    "\n"
   ]
  },
  {
   "cell_type": "code",
   "execution_count": 20,
   "id": "91718638",
   "metadata": {
    "papermill": {
     "duration": 0.699949,
     "end_time": "2021-07-20T06:01:59.860347",
     "exception": false,
     "start_time": "2021-07-20T06:01:59.160398",
     "status": "completed"
    },
    "tags": []
   },
   "outputs": [
    {
     "data": {
      "text/plain": [
       "<AxesSubplot:xlabel='year', ylabel='month'>"
      ]
     },
     "execution_count": 20,
     "metadata": {},
     "output_type": "execute_result"
    },
    {
     "data": {
      "image/png": "[encoded data removed]",
      "text/plain": [
       "<Figure size 432x288 with 1 Axes>"
      ]
     },
     "metadata": {
      "needs_background": "light"
     },
     "output_type": "display_data"
    }
   ],
   "source": [
    "sns.boxplot(x='year',y='month',data=data)\n"
   ]
  },
  {
   "cell_type": "markdown",
   "id": "ece8ac4b",
   "metadata": {
    "papermill": {
     "duration": 0.066695,
     "end_time": "2021-07-20T06:01:59.994586",
     "exception": false,
     "start_time": "2021-07-20T06:01:59.927891",
     "status": "completed"
    },
    "tags": []
   },
   "source": [
    "**STRIPPLOT**\n",
    "\n",
    "**A strip plot is a graphical data anlysis technique for summarizing a univariate data set. ... The strip plot is an alternative to a histogram or a density plot. It is typically used for small data sets (histograms and density plots are typically preferred for larger data sets).**\n",
    "\n"
   ]
  },
  {
   "cell_type": "code",
   "execution_count": 21,
   "id": "a9264df0",
   "metadata": {
    "papermill": {
     "duration": 0.520046,
     "end_time": "2021-07-20T06:02:00.583806",
     "exception": false,
     "start_time": "2021-07-20T06:02:00.063760",
     "status": "completed"
    },
    "tags": []
   },
   "outputs": [
    {
     "data": {
      "text/plain": [
       "<AxesSubplot:xlabel='year', ylabel='state'>"
      ]
     },
     "execution_count": 21,
     "metadata": {},
     "output_type": "execute_result"
    },
    {
     "data": {
      "image/png": "[encoded data removed]",
      "text/plain": [
       "<Figure size 432x288 with 1 Axes>"
      ]
     },
     "metadata": {
      "needs_background": "light"
     },
     "output_type": "display_data"
    }
   ],
   "source": [
    "sns.stripplot(x='year',y='state',data=data)"
   ]
  },
  {
   "cell_type": "markdown",
   "id": "e4082747",
   "metadata": {
    "papermill": {
     "duration": 0.06866,
     "end_time": "2021-07-20T06:02:00.722702",
     "exception": false,
     "start_time": "2021-07-20T06:02:00.654042",
     "status": "completed"
    },
    "tags": []
   },
   "source": [
    "**SCATTER PLOT**\n",
    "\n",
    "**A scatter plot (aka scatter chart, scatter graph) uses dots to represent values for two different numeric variables. The position of each dot on the horizontal and vertical axis indicates values for an individual data point. Scatter plots are used to observe relationships between variables.**\n",
    "\n"
   ]
  },
  {
   "cell_type": "code",
   "execution_count": 22,
   "id": "c3d8780e",
   "metadata": {
    "papermill": {
     "duration": 0.327775,
     "end_time": "2021-07-20T06:02:01.119525",
     "exception": false,
     "start_time": "2021-07-20T06:02:00.791750",
     "status": "completed"
    },
    "tags": []
   },
   "outputs": [
    {
     "data": {
      "text/plain": [
       "<AxesSubplot:xlabel='year', ylabel='number'>"
      ]
     },
     "execution_count": 22,
     "metadata": {},
     "output_type": "execute_result"
    },
    {
     "data": {
      "image/png": "[encoded data removed]",
      "text/plain": [
       "<Figure size 432x288 with 1 Axes>"
      ]
     },
     "metadata": {
      "needs_background": "light"
     },
     "output_type": "display_data"
    }
   ],
   "source": [
    "sns.scatterplot(x='year',y='number',data=data,color='g')"
   ]
  },
  {
   "cell_type": "markdown",
   "id": "a786c5b7",
   "metadata": {
    "papermill": {
     "duration": 0.070329,
     "end_time": "2021-07-20T06:02:01.261185",
     "exception": false,
     "start_time": "2021-07-20T06:02:01.190856",
     "status": "completed"
    },
    "tags": []
   },
   "source": [
    "**LINEPLOT**\n",
    "\n",
    "**A Line plot can be defined as a graph that displays data as points or check marks above a number line, showing the frequency of each value.**\n",
    "\n"
   ]
  },
  {
   "cell_type": "code",
   "execution_count": 23,
   "id": "3eea6264",
   "metadata": {
    "papermill": {
     "duration": 0.945661,
     "end_time": "2021-07-20T06:02:02.277930",
     "exception": false,
     "start_time": "2021-07-20T06:02:01.332269",
     "status": "completed"
    },
    "tags": []
   },
   "outputs": [
    {
     "data": {
      "text/plain": [
       "<AxesSubplot:xlabel='year', ylabel='number'>"
      ]
     },
     "execution_count": 23,
     "metadata": {},
     "output_type": "execute_result"
    },
    {
     "data": {
      "image/png": "[encoded data removed]",
      "text/plain": [
       "<Figure size 432x288 with 1 Axes>"
      ]
     },
     "metadata": {
      "needs_background": "light"
     },
     "output_type": "display_data"
    }
   ],
   "source": [
    "sns.lineplot(x='year',y='number',data=data,color='g')"
   ]
  },
  {
   "cell_type": "markdown",
   "id": "62cb814e",
   "metadata": {
    "papermill": {
     "duration": 0.072275,
     "end_time": "2021-07-20T06:02:02.423407",
     "exception": false,
     "start_time": "2021-07-20T06:02:02.351132",
     "status": "completed"
    },
    "tags": []
   },
   "source": [
    "![](https://api.time.com/wp-content/uploads/2019/08/sebastian-liste-amazon-fires-brazil-3.jpg)"
   ]
  },
  {
   "cell_type": "code",
   "execution_count": 24,
   "id": "57f398d7",
   "metadata": {
    "papermill": {
     "duration": 0.090449,
     "end_time": "2021-07-20T06:02:02.587933",
     "exception": false,
     "start_time": "2021-07-20T06:02:02.497484",
     "status": "completed"
    },
    "tags": []
   },
   "outputs": [
    {
     "data": {
      "text/html": [
       "<div>\n",
       "<style scoped>\n",
       "    .dataframe tbody tr th:only-of-type {\n",
       "        vertical-align: middle;\n",
       "    }\n",
       "\n",
       "    .dataframe tbody tr th {\n",
       "        vertical-align: top;\n",
       "    }\n",
       "\n",
       "    .dataframe thead th {\n",
       "        text-align: right;\n",
       "    }\n",
       "</style>\n",
       "<table border=\"1\" class=\"dataframe\">\n",
       "  <thead>\n",
       "    <tr style=\"text-align: right;\">\n",
       "      <th></th>\n",
       "      <th>year</th>\n",
       "      <th>state</th>\n",
       "      <th>month</th>\n",
       "      <th>number</th>\n",
       "      <th>date</th>\n",
       "    </tr>\n",
       "  </thead>\n",
       "  <tbody>\n",
       "    <tr>\n",
       "      <th>year</th>\n",
       "      <td>1.000000</td>\n",
       "      <td>0.002014</td>\n",
       "      <td>0.005818</td>\n",
       "      <td>0.062600</td>\n",
       "      <td>1.000000</td>\n",
       "    </tr>\n",
       "    <tr>\n",
       "      <th>state</th>\n",
       "      <td>0.002014</td>\n",
       "      <td>1.000000</td>\n",
       "      <td>0.000460</td>\n",
       "      <td>0.021142</td>\n",
       "      <td>0.002014</td>\n",
       "    </tr>\n",
       "    <tr>\n",
       "      <th>month</th>\n",
       "      <td>0.005818</td>\n",
       "      <td>0.000460</td>\n",
       "      <td>1.000000</td>\n",
       "      <td>0.051120</td>\n",
       "      <td>0.005818</td>\n",
       "    </tr>\n",
       "    <tr>\n",
       "      <th>number</th>\n",
       "      <td>0.062600</td>\n",
       "      <td>0.021142</td>\n",
       "      <td>0.051120</td>\n",
       "      <td>1.000000</td>\n",
       "      <td>0.062600</td>\n",
       "    </tr>\n",
       "    <tr>\n",
       "      <th>date</th>\n",
       "      <td>1.000000</td>\n",
       "      <td>0.002014</td>\n",
       "      <td>0.005818</td>\n",
       "      <td>0.062600</td>\n",
       "      <td>1.000000</td>\n",
       "    </tr>\n",
       "  </tbody>\n",
       "</table>\n",
       "</div>"
      ],
      "text/plain": [
       "            year     state     month    number      date\n",
       "year    1.000000  0.002014  0.005818  0.062600  1.000000\n",
       "state   0.002014  1.000000  0.000460  0.021142  0.002014\n",
       "month   0.005818  0.000460  1.000000  0.051120  0.005818\n",
       "number  0.062600  0.021142  0.051120  1.000000  0.062600\n",
       "date    1.000000  0.002014  0.005818  0.062600  1.000000"
      ]
     },
     "execution_count": 24,
     "metadata": {},
     "output_type": "execute_result"
    }
   ],
   "source": [
    "data.corr()"
   ]
  },
  {
   "cell_type": "markdown",
   "id": "73100d11",
   "metadata": {
    "papermill": {
     "duration": 0.072927,
     "end_time": "2021-07-20T06:02:02.734601",
     "exception": false,
     "start_time": "2021-07-20T06:02:02.661674",
     "status": "completed"
    },
    "tags": []
   },
   "source": [
    "**HEATMAP**\n",
    "\n",
    "**A heatmap is a graphical representation of data that uses a system of color-coding to represent different values. Heatmaps are used in various forms of analytics but are most commonly used to show user behaviour on specific webpages or webpage templates.**"
   ]
  },
  {
   "cell_type": "code",
   "execution_count": 25,
   "id": "bf3eedf3",
   "metadata": {
    "papermill": {
     "duration": 0.417497,
     "end_time": "2021-07-20T06:02:03.224563",
     "exception": false,
     "start_time": "2021-07-20T06:02:02.807066",
     "status": "completed"
    },
    "tags": []
   },
   "outputs": [
    {
     "data": {
      "text/plain": [
       "<AxesSubplot:>"
      ]
     },
     "execution_count": 25,
     "metadata": {},
     "output_type": "execute_result"
    },
    {
     "data": {
      "image/png": "[encoded data removed]",
      "text/plain": [
       "<Figure size 432x288 with 2 Axes>"
      ]
     },
     "metadata": {
      "needs_background": "light"
     },
     "output_type": "display_data"
    }
   ],
   "source": [
    "\n",
    "sns.heatmap(data.corr(), annot = True, cmap = 'viridis')\n"
   ]
  },
  {
   "cell_type": "markdown",
   "id": "e8ecccb8",
   "metadata": {
    "papermill": {
     "duration": 0.075625,
     "end_time": "2021-07-20T06:02:03.374664",
     "exception": false,
     "start_time": "2021-07-20T06:02:03.299039",
     "status": "completed"
    },
    "tags": []
   },
   "source": [
    "**PAIRPLOT**\n",
    "\n",
    "**A pairplot plot a pairwise relationships in a dataset. The pairplot function creates a grid of Axes such that each variable in data will by shared in the y-axis across a single row and in the x-axis across a single column.**\n"
   ]
  },
  {
   "cell_type": "code",
   "execution_count": 26,
   "id": "470a0f80",
   "metadata": {
    "papermill": {
     "duration": 6.037506,
     "end_time": "2021-07-20T06:02:09.487817",
     "exception": false,
     "start_time": "2021-07-20T06:02:03.450311",
     "status": "completed"
    },
    "tags": []
   },
   "outputs": [
    {
     "data": {
      "text/plain": [
       "<seaborn.axisgrid.PairGrid at 0x25ea3d8fa00>"
      ]
     },
     "execution_count": 26,
     "metadata": {},
     "output_type": "execute_result"
    },
    {
     "data": {
      "image/png": "[encoded data removed]",
      "text/plain": [
       "<Figure size 900x900 with 30 Axes>"
      ]
     },
     "metadata": {
      "needs_background": "light"
     },
     "output_type": "display_data"
    }
   ],
   "source": [
    "sns.pairplot(data=data)\n"
   ]
  },
  {
   "cell_type": "markdown",
   "id": "d3708874",
   "metadata": {
    "papermill": {
     "duration": 0.081314,
     "end_time": "2021-07-20T06:02:09.654276",
     "exception": false,
     "start_time": "2021-07-20T06:02:09.572962",
     "status": "completed"
    },
    "tags": []
   },
   "source": [
    "**JOINTPLOT**\n",
    "\n",
    "**Seaborn's jointplot displays a relationship between 2 variables (bivariate) as well as 1D profiles (univariate) in the margins. This plot is a convenience class that wraps JointGrid.**\n",
    "\n"
   ]
  },
  {
   "cell_type": "code",
   "execution_count": 27,
   "id": "00c5759f",
   "metadata": {
    "papermill": {
     "duration": 0.722126,
     "end_time": "2021-07-20T06:02:10.458835",
     "exception": false,
     "start_time": "2021-07-20T06:02:09.736709",
     "status": "completed"
    },
    "tags": []
   },
   "outputs": [
    {
     "data": {
      "text/plain": [
       "<seaborn.axisgrid.JointGrid at 0x25ea610a2e0>"
      ]
     },
     "execution_count": 27,
     "metadata": {},
     "output_type": "execute_result"
    },
    {
     "data": {
      "image/png": "[encoded data removed]",
      "text/plain": [
       "<Figure size 432x432 with 3 Axes>"
      ]
     },
     "metadata": {
      "needs_background": "light"
     },
     "output_type": "display_data"
    }
   ],
   "source": [
    "sns.jointplot(x='year',y='month',data=data,color='r')"
   ]
  },
  {
   "cell_type": "markdown",
   "id": "1ca59526",
   "metadata": {
    "papermill": {
     "duration": 0.084944,
     "end_time": "2021-07-20T06:02:10.627723",
     "exception": false,
     "start_time": "2021-07-20T06:02:10.542779",
     "status": "completed"
    },
    "tags": []
   },
   "source": [
    "**REGPLOT**\n",
    "\n",
    "**This method is used to plot data and a linear regression model fit. ... If strings, these should correspond with column names in “data”. When pandas objects are used, axes will be labeled with the series name. data: This is dataframe where each column is a variable and each row is an observation.**\n",
    "\n"
   ]
  },
  {
   "cell_type": "code",
   "execution_count": 28,
   "id": "0cfe1531",
   "metadata": {
    "papermill": {
     "duration": 0.75993,
     "end_time": "2021-07-20T06:02:11.473411",
     "exception": false,
     "start_time": "2021-07-20T06:02:10.713481",
     "status": "completed"
    },
    "tags": []
   },
   "outputs": [
    {
     "data": {
      "text/plain": [
       "<AxesSubplot:xlabel='year', ylabel='number'>"
      ]
     },
     "execution_count": 28,
     "metadata": {},
     "output_type": "execute_result"
    },
    {
     "data": {
      "image/png": "[encoded data removed]",
      "text/plain": [
       "<Figure size 432x288 with 1 Axes>"
      ]
     },
     "metadata": {
      "needs_background": "light"
     },
     "output_type": "display_data"
    }
   ],
   "source": [
    "sns.regplot(x='year',y='number',data=data,color='b')"
   ]
  },
  {
   "cell_type": "markdown",
   "id": "5d19e184",
   "metadata": {
    "papermill": {
     "duration": 0.086045,
     "end_time": "2021-07-20T06:02:11.647097",
     "exception": false,
     "start_time": "2021-07-20T06:02:11.561052",
     "status": "completed"
    },
    "tags": []
   },
   "source": [
    "**KDE PLOT (DENSITY PLOT)**\n",
    "\n",
    "**KDE Plot described as Kernel Density Estimate is used for visualizing the Probability Density of a continuous variable. It depicts the probability density at different values in a continuous variable. We can also plot a single graph for multiple samples which helps in more efficient data visualization.**\n",
    "\n"
   ]
  },
  {
   "cell_type": "code",
   "execution_count": 29,
   "id": "33f9b600",
   "metadata": {
    "papermill": {
     "duration": 6.3855,
     "end_time": "2021-07-20T06:02:18.117891",
     "exception": false,
     "start_time": "2021-07-20T06:02:11.732391",
     "status": "completed"
    },
    "tags": []
   },
   "outputs": [
    {
     "data": {
      "text/plain": [
       "<AxesSubplot:xlabel='year', ylabel='state'>"
      ]
     },
     "execution_count": 29,
     "metadata": {},
     "output_type": "execute_result"
    },
    {
     "data": {
      "image/png": "[encoded data removed]",
      "text/plain": [
       "<Figure size 432x288 with 1 Axes>"
      ]
     },
     "metadata": {
      "needs_background": "light"
     },
     "output_type": "display_data"
    }
   ],
   "source": [
    "sns.kdeplot(x='year',y='state',data=data,color='g')"
   ]
  },
  {
   "cell_type": "markdown",
   "id": "de502888",
   "metadata": {
    "papermill": {
     "duration": 0.089751,
     "end_time": "2021-07-20T06:02:18.298254",
     "exception": false,
     "start_time": "2021-07-20T06:02:18.208503",
     "status": "completed"
    },
    "tags": []
   },
   "source": [
    "**BARPLOT**\n",
    "\n",
    "**A bar plot represents an estimate of central tendency for a numeric variable with the height of each rectangle and provides some indication of the uncertainty around that estimate using error bars.**"
   ]
  },
  {
   "cell_type": "code",
   "execution_count": 30,
   "id": "21c5dc94",
   "metadata": {
    "papermill": {
     "duration": 1.239898,
     "end_time": "2021-07-20T06:02:19.626116",
     "exception": false,
     "start_time": "2021-07-20T06:02:18.386218",
     "status": "completed"
    },
    "tags": []
   },
   "outputs": [
    {
     "data": {
      "image/png": "[encoded data removed]",
      "text/plain": [
       "<Figure size 640x480 with 1 Axes>"
      ]
     },
     "metadata": {},
     "output_type": "display_data"
    }
   ],
   "source": [
    "plt.style.use(\"default\")\n",
    "sns.barplot(x=\"year\", y=\"number\",data=data)\n",
    "plt.title(\"YEAR vs NUMBER\",fontsize=15)\n",
    "plt.xlabel(\"YEAR\")\n",
    "plt.ylabel(\"NUMBER\")\n",
    "plt.show()\n"
   ]
  },
  {
   "cell_type": "code",
   "execution_count": 31,
   "id": "b4086b5a",
   "metadata": {
    "papermill": {
     "duration": 0.774518,
     "end_time": "2021-07-20T06:02:20.490009",
     "exception": false,
     "start_time": "2021-07-20T06:02:19.715491",
     "status": "completed"
    },
    "tags": []
   },
   "outputs": [
    {
     "data": {
      "image/png": "[encoded data removed]",
      "text/plain": [
       "<Figure size 640x480 with 1 Axes>"
      ]
     },
     "metadata": {},
     "output_type": "display_data"
    }
   ],
   "source": [
    "plt.style.use(\"default\")\n",
    "sns.barplot(x=\"month\", y=\"state\",data=data)\n",
    "plt.title(\"MONTH vs STATE\",fontsize=15)\n",
    "plt.xlabel(\"MONTH\")\n",
    "plt.ylabel(\"STATE\")\n",
    "plt.show()\n"
   ]
  },
  {
   "cell_type": "markdown",
   "id": "dea41277",
   "metadata": {
    "papermill": {
     "duration": 0.08938,
     "end_time": "2021-07-20T06:02:20.668375",
     "exception": false,
     "start_time": "2021-07-20T06:02:20.578995",
     "status": "completed"
    },
    "tags": []
   },
   "source": [
    "![](https://i.guim.co.uk/img/media/318697f53f1aba1c90b2d95e908e217314e37e7e/0_164_2480_1489/500.jpg?quality=85&auto=format&fit=max&s=86e302106077e9ac3c6da4485fcc629f)"
   ]
  },
  {
   "cell_type": "markdown",
   "id": "c0c2c97f",
   "metadata": {
    "papermill": {
     "duration": 0.088309,
     "end_time": "2021-07-20T06:02:20.845583",
     "exception": false,
     "start_time": "2021-07-20T06:02:20.757274",
     "status": "completed"
    },
    "tags": []
   },
   "source": [
    "**DATA PREPROCESSING**"
   ]
  },
  {
   "cell_type": "code",
   "execution_count": 32,
   "id": "a8516a47",
   "metadata": {
    "papermill": {
     "duration": 0.097092,
     "end_time": "2021-07-20T06:02:21.033259",
     "exception": false,
     "start_time": "2021-07-20T06:02:20.936167",
     "status": "completed"
    },
    "tags": []
   },
   "outputs": [],
   "source": [
    "#lets find the categorialfeatures\n",
    "list_1=list(data.columns)"
   ]
  },
  {
   "cell_type": "code",
   "execution_count": 33,
   "id": "a502ccc5",
   "metadata": {
    "papermill": {
     "duration": 0.097765,
     "end_time": "2021-07-20T06:02:21.221636",
     "exception": false,
     "start_time": "2021-07-20T06:02:21.123871",
     "status": "completed"
    },
    "tags": []
   },
   "outputs": [],
   "source": [
    "list_cate=[]\n",
    "for i in list_1:\n",
    "    if data[i].dtype=='object':\n",
    "        list_cate.append(i)\n"
   ]
  },
  {
   "cell_type": "code",
   "execution_count": 34,
   "id": "05c75d02",
   "metadata": {
    "papermill": {
     "duration": 0.098716,
     "end_time": "2021-07-20T06:02:21.409019",
     "exception": false,
     "start_time": "2021-07-20T06:02:21.310303",
     "status": "completed"
    },
    "tags": []
   },
   "outputs": [],
   "source": [
    "from sklearn.preprocessing import LabelEncoder\n",
    "le=LabelEncoder()"
   ]
  },
  {
   "cell_type": "code",
   "execution_count": 35,
   "id": "101c0364",
   "metadata": {
    "papermill": {
     "duration": 0.097111,
     "end_time": "2021-07-20T06:02:21.600085",
     "exception": false,
     "start_time": "2021-07-20T06:02:21.502974",
     "status": "completed"
    },
    "tags": []
   },
   "outputs": [],
   "source": [
    "for i in list_cate:\n",
    "    data[i]=le.fit_transform(data[i])\n"
   ]
  },
  {
   "cell_type": "code",
   "execution_count": 36,
   "id": "4af10ba0",
   "metadata": {
    "papermill": {
     "duration": 0.110822,
     "end_time": "2021-07-20T06:02:21.800678",
     "exception": false,
     "start_time": "2021-07-20T06:02:21.689856",
     "status": "completed"
    },
    "tags": []
   },
   "outputs": [
    {
     "data": {
      "text/html": [
       "<div>\n",
       "<style scoped>\n",
       "    .dataframe tbody tr th:only-of-type {\n",
       "        vertical-align: middle;\n",
       "    }\n",
       "\n",
       "    .dataframe tbody tr th {\n",
       "        vertical-align: top;\n",
       "    }\n",
       "\n",
       "    .dataframe thead th {\n",
       "        text-align: right;\n",
       "    }\n",
       "</style>\n",
       "<table border=\"1\" class=\"dataframe\">\n",
       "  <thead>\n",
       "    <tr style=\"text-align: right;\">\n",
       "      <th></th>\n",
       "      <th>year</th>\n",
       "      <th>state</th>\n",
       "      <th>month</th>\n",
       "      <th>number</th>\n",
       "      <th>date</th>\n",
       "    </tr>\n",
       "  </thead>\n",
       "  <tbody>\n",
       "    <tr>\n",
       "      <th>0</th>\n",
       "      <td>1998</td>\n",
       "      <td>0</td>\n",
       "      <td>4</td>\n",
       "      <td>0.0</td>\n",
       "      <td>0</td>\n",
       "    </tr>\n",
       "    <tr>\n",
       "      <th>1</th>\n",
       "      <td>1999</td>\n",
       "      <td>0</td>\n",
       "      <td>4</td>\n",
       "      <td>0.0</td>\n",
       "      <td>1</td>\n",
       "    </tr>\n",
       "    <tr>\n",
       "      <th>2</th>\n",
       "      <td>2000</td>\n",
       "      <td>0</td>\n",
       "      <td>4</td>\n",
       "      <td>0.0</td>\n",
       "      <td>2</td>\n",
       "    </tr>\n",
       "    <tr>\n",
       "      <th>3</th>\n",
       "      <td>2001</td>\n",
       "      <td>0</td>\n",
       "      <td>4</td>\n",
       "      <td>0.0</td>\n",
       "      <td>3</td>\n",
       "    </tr>\n",
       "    <tr>\n",
       "      <th>4</th>\n",
       "      <td>2002</td>\n",
       "      <td>0</td>\n",
       "      <td>4</td>\n",
       "      <td>0.0</td>\n",
       "      <td>4</td>\n",
       "    </tr>\n",
       "    <tr>\n",
       "      <th>...</th>\n",
       "      <td>...</td>\n",
       "      <td>...</td>\n",
       "      <td>...</td>\n",
       "      <td>...</td>\n",
       "      <td>...</td>\n",
       "    </tr>\n",
       "    <tr>\n",
       "      <th>6449</th>\n",
       "      <td>2012</td>\n",
       "      <td>22</td>\n",
       "      <td>2</td>\n",
       "      <td>128.0</td>\n",
       "      <td>14</td>\n",
       "    </tr>\n",
       "    <tr>\n",
       "      <th>6450</th>\n",
       "      <td>2013</td>\n",
       "      <td>22</td>\n",
       "      <td>2</td>\n",
       "      <td>85.0</td>\n",
       "      <td>15</td>\n",
       "    </tr>\n",
       "    <tr>\n",
       "      <th>6451</th>\n",
       "      <td>2014</td>\n",
       "      <td>22</td>\n",
       "      <td>2</td>\n",
       "      <td>223.0</td>\n",
       "      <td>16</td>\n",
       "    </tr>\n",
       "    <tr>\n",
       "      <th>6452</th>\n",
       "      <td>2015</td>\n",
       "      <td>22</td>\n",
       "      <td>2</td>\n",
       "      <td>373.0</td>\n",
       "      <td>17</td>\n",
       "    </tr>\n",
       "    <tr>\n",
       "      <th>6453</th>\n",
       "      <td>2016</td>\n",
       "      <td>22</td>\n",
       "      <td>2</td>\n",
       "      <td>119.0</td>\n",
       "      <td>18</td>\n",
       "    </tr>\n",
       "  </tbody>\n",
       "</table>\n",
       "<p>6422 rows × 5 columns</p>\n",
       "</div>"
      ],
      "text/plain": [
       "      year  state  month  number  date\n",
       "0     1998      0      4     0.0     0\n",
       "1     1999      0      4     0.0     1\n",
       "2     2000      0      4     0.0     2\n",
       "3     2001      0      4     0.0     3\n",
       "4     2002      0      4     0.0     4\n",
       "...    ...    ...    ...     ...   ...\n",
       "6449  2012     22      2   128.0    14\n",
       "6450  2013     22      2    85.0    15\n",
       "6451  2014     22      2   223.0    16\n",
       "6452  2015     22      2   373.0    17\n",
       "6453  2016     22      2   119.0    18\n",
       "\n",
       "[6422 rows x 5 columns]"
      ]
     },
     "execution_count": 36,
     "metadata": {},
     "output_type": "execute_result"
    }
   ],
   "source": [
    "data"
   ]
  },
  {
   "cell_type": "markdown",
   "id": "4e4f24b4",
   "metadata": {
    "papermill": {
     "duration": 0.09061,
     "end_time": "2021-07-20T06:02:21.984744",
     "exception": false,
     "start_time": "2021-07-20T06:02:21.894134",
     "status": "completed"
    },
    "tags": []
   },
   "source": [
    "**TRAINING AND TESTING DATA**"
   ]
  },
  {
   "cell_type": "code",
   "execution_count": 37,
   "id": "a9c43f37",
   "metadata": {
    "papermill": {
     "duration": 0.183712,
     "end_time": "2021-07-20T06:02:22.274929",
     "exception": false,
     "start_time": "2021-07-20T06:02:22.091217",
     "status": "completed"
    },
    "tags": []
   },
   "outputs": [],
   "source": [
    "y=data['year']\n",
    "x=data.drop('year',axis=1)\n",
    "\n",
    "from sklearn.model_selection import train_test_split\n",
    "x_train,x_test,y_train,y_test=train_test_split(x,y,random_state=0,test_size=0.2)"
   ]
  },
  {
   "cell_type": "code",
   "execution_count": 38,
   "id": "5583e0a1",
   "metadata": {
    "papermill": {
     "duration": 0.105205,
     "end_time": "2021-07-20T06:02:22.489943",
     "exception": false,
     "start_time": "2021-07-20T06:02:22.384738",
     "status": "completed"
    },
    "tags": []
   },
   "outputs": [
    {
     "name": "stdout",
     "output_type": "stream",
     "text": [
      "1285\n",
      "5137\n",
      "1285\n",
      "5137\n"
     ]
    }
   ],
   "source": [
    "print(len(x_test))\n",
    "print(len(x_train))\n",
    "print(len(y_test))\n",
    "print(len(y_train))\n"
   ]
  },
  {
   "cell_type": "markdown",
   "id": "5ee837e4",
   "metadata": {
    "papermill": {
     "duration": 0.093042,
     "end_time": "2021-07-20T06:02:22.677104",
     "exception": false,
     "start_time": "2021-07-20T06:02:22.584062",
     "status": "completed"
    },
    "tags": []
   },
   "source": [
    "# MODELS"
   ]
  },
  {
   "cell_type": "markdown",
   "id": "95806a82",
   "metadata": {
    "papermill": {
     "duration": 0.094866,
     "end_time": "2021-07-20T06:02:22.866569",
     "exception": false,
     "start_time": "2021-07-20T06:02:22.771703",
     "status": "completed"
    },
    "tags": []
   },
   "source": [
    "**1. KNeighborsClassifier**\n",
    "\n",
    "**By default, the KNeighborsClassifier looks for the 5 nearest neighbors. We must explicitly tell the classifier to use Euclidean distance for determining the proximity between neighboring points.**\n",
    "\n"
   ]
  },
  {
   "cell_type": "code",
   "execution_count": 39,
   "id": "8d3ff304",
   "metadata": {
    "papermill": {
     "duration": 0.275316,
     "end_time": "2021-07-20T06:02:23.235157",
     "exception": false,
     "start_time": "2021-07-20T06:02:22.959841",
     "status": "completed"
    },
    "tags": []
   },
   "outputs": [
    {
     "data": {
      "text/plain": [
       "KNeighborsClassifier(n_neighbors=7)"
      ]
     },
     "execution_count": 39,
     "metadata": {},
     "output_type": "execute_result"
    }
   ],
   "source": [
    "from sklearn.neighbors import KNeighborsClassifier\n",
    "knn=KNeighborsClassifier(n_neighbors=7)\n",
    "\n",
    "knn.fit(x_train,y_train)\n"
   ]
  },
  {
   "cell_type": "code",
   "execution_count": 40,
   "id": "aa6019fd",
   "metadata": {
    "papermill": {
     "duration": 0.397368,
     "end_time": "2021-07-20T06:02:23.725990",
     "exception": false,
     "start_time": "2021-07-20T06:02:23.328622",
     "status": "completed"
    },
    "tags": []
   },
   "outputs": [
    {
     "name": "stdout",
     "output_type": "stream",
     "text": [
      "Classification Report is:\n",
      "               precision    recall  f1-score   support\n",
      "\n",
      "        1998       0.45      0.57      0.50        51\n",
      "        1999       0.28      0.29      0.29        72\n",
      "        2000       0.26      0.32      0.29        59\n",
      "        2001       0.27      0.32      0.29        63\n",
      "        2002       0.16      0.15      0.16        65\n",
      "        2003       0.20      0.26      0.23        65\n",
      "        2004       0.14      0.11      0.13        70\n",
      "        2005       0.28      0.23      0.25        66\n",
      "        2006       0.16      0.21      0.18        57\n",
      "        2007       0.22      0.24      0.23        62\n",
      "        2008       0.27      0.29      0.28        66\n",
      "        2009       0.13      0.14      0.14        56\n",
      "        2010       0.28      0.30      0.29        66\n",
      "        2011       0.21      0.20      0.20        60\n",
      "        2012       0.28      0.21      0.24        73\n",
      "        2013       0.15      0.16      0.15        58\n",
      "        2014       0.17      0.20      0.18        66\n",
      "        2015       0.13      0.11      0.12        76\n",
      "        2016       0.28      0.18      0.22        73\n",
      "        2017       0.41      0.30      0.34        61\n",
      "\n",
      "    accuracy                           0.23      1285\n",
      "   macro avg       0.24      0.24      0.24      1285\n",
      "weighted avg       0.24      0.23      0.23      1285\n",
      "\n",
      "Confusion Matrix:\n",
      " [[29 15  1  3  2  0  0  0  1  0  0  0  0  0  0  0  0  0  0  0]\n",
      " [19 21 20  6  2  3  0  0  0  1  0  0  0  0  0  0  0  0  0  0]\n",
      " [ 8 18 19  7  1  5  0  0  1  0  0  0  0  0  0  0  0  0  0  0]\n",
      " [ 1  8 17 20 12  1  2  1  0  1  0  0  0  0  0  0  0  0  0  0]\n",
      " [ 3  5  5 21 10 15  4  1  1  0  0  0  0  0  0  0  0  0  0  0]\n",
      " [ 1  5  6  6 16 17  7  3  2  1  0  1  0  0  0  0  0  0  0  0]\n",
      " [ 2  1  3  3  9 25  8  7  7  2  1  1  1  0  0  0  0  0  0  0]\n",
      " [ 0  0  0  4  6  5 19 15 11  3  1  0  1  0  1  0  0  0  0  0]\n",
      " [ 0  0  1  1  0  5  9  9 12 11  7  2  0  0  0  0  0  0  0  0]\n",
      " [ 0  1  0  2  0  5  6  7 20 15  4  0  2  0  0  0  0  0  0  0]\n",
      " [ 1  0  0  0  0  1  1  3 11 15 19  9  4  2  0  0  0  0  0  0]\n",
      " [ 0  0  1  0  0  2  0  2  3  7 26  8  4  3  0  0  0  0  0  0]\n",
      " [ 0  0  0  0  0  0  0  2  2  5  6 20 20  9  1  0  0  1  0  0]\n",
      " [ 0  0  0  0  1  1  0  1  2  0  2  8 21 12  7  2  1  1  0  1]\n",
      " [ 0  1  0  0  1  0  0  0  2  1  0  5  6 22 15 12  5  1  1  1]\n",
      " [ 0  0  0  0  0  0  0  2  1  1  2  4  3  3 14  9 12  4  2  1]\n",
      " [ 0  0  0  0  0  0  0  0  0  2  1  1  2  3 10 18 13 10  3  3]\n",
      " [ 0  0  0  0  0  0  0  0  0  1  1  0  3  3  3 15 26  8 11  5]\n",
      " [ 0  0  0  0  0  0  1  0  0  1  0  2  3  1  2  3 11 21 13 15]\n",
      " [ 0  0  0  0  1  0  0  0  0  0  0  1  1  0  0  2  7 14 17 18]]\n",
      "Training Score:\n",
      " 48.705470118746355\n"
     ]
    }
   ],
   "source": [
    "y_pred=knn.predict(x_test)\n",
    "from sklearn.metrics import accuracy_score,classification_report,confusion_matrix\n",
    "from sklearn.metrics import r2_score\n",
    "from sklearn.metrics import mean_squared_error\n",
    "print(\"Classification Report is:\\n\",classification_report(y_test,y_pred))\n",
    "print(\"Confusion Matrix:\\n\",confusion_matrix(y_test,y_pred))\n",
    "print(\"Training Score:\\n\",knn.score(x_train,y_train)*100)"
   ]
  },
  {
   "cell_type": "markdown",
   "id": "0643b02b",
   "metadata": {
    "papermill": {
     "duration": 0.090073,
     "end_time": "2021-07-20T06:02:23.906642",
     "exception": false,
     "start_time": "2021-07-20T06:02:23.816569",
     "status": "completed"
    },
    "tags": []
   },
   "source": [
    "**2.Naive Bayes** \n",
    "\n",
    "**Naive Bayes classifiers are a collection of classification algorithms based on Bayes' Theorem. It is not a single algorithm but a family of algorithms where all of them share a common principle, i.e. every pair of features being classified is independent of each other.**"
   ]
  },
  {
   "cell_type": "code",
   "execution_count": 41,
   "id": "0012e09d",
   "metadata": {
    "papermill": {
     "duration": 0.113885,
     "end_time": "2021-07-20T06:02:24.113218",
     "exception": false,
     "start_time": "2021-07-20T06:02:23.999333",
     "status": "completed"
    },
    "tags": []
   },
   "outputs": [
    {
     "data": {
      "text/plain": [
       "GaussianNB()"
      ]
     },
     "execution_count": 41,
     "metadata": {},
     "output_type": "execute_result"
    }
   ],
   "source": [
    "from sklearn.naive_bayes import GaussianNB\n",
    "gnb = GaussianNB()\n",
    "gnb.fit(x_train,y_train)\n"
   ]
  },
  {
   "cell_type": "code",
   "execution_count": 42,
   "id": "1a36cd82",
   "metadata": {
    "papermill": {
     "duration": 0.127867,
     "end_time": "2021-07-20T06:02:24.332668",
     "exception": false,
     "start_time": "2021-07-20T06:02:24.204801",
     "status": "completed"
    },
    "tags": []
   },
   "outputs": [
    {
     "name": "stdout",
     "output_type": "stream",
     "text": [
      "Classification Report is:\n",
      "               precision    recall  f1-score   support\n",
      "\n",
      "        1998       1.00      1.00      1.00        51\n",
      "        1999       1.00      1.00      1.00        72\n",
      "        2000       1.00      1.00      1.00        59\n",
      "        2001       1.00      1.00      1.00        63\n",
      "        2002       1.00      1.00      1.00        65\n",
      "        2003       1.00      1.00      1.00        65\n",
      "        2004       1.00      1.00      1.00        70\n",
      "        2005       1.00      1.00      1.00        66\n",
      "        2006       1.00      1.00      1.00        57\n",
      "        2007       1.00      1.00      1.00        62\n",
      "        2008       1.00      1.00      1.00        66\n",
      "        2009       1.00      1.00      1.00        56\n",
      "        2010       1.00      1.00      1.00        66\n",
      "        2011       1.00      1.00      1.00        60\n",
      "        2012       1.00      1.00      1.00        73\n",
      "        2013       1.00      1.00      1.00        58\n",
      "        2014       1.00      1.00      1.00        66\n",
      "        2015       1.00      1.00      1.00        76\n",
      "        2016       1.00      1.00      1.00        73\n",
      "        2017       1.00      1.00      1.00        61\n",
      "\n",
      "    accuracy                           1.00      1285\n",
      "   macro avg       1.00      1.00      1.00      1285\n",
      "weighted avg       1.00      1.00      1.00      1285\n",
      "\n",
      "Confusion Matrix:\n",
      " [[51  0  0  0  0  0  0  0  0  0  0  0  0  0  0  0  0  0  0  0]\n",
      " [ 0 72  0  0  0  0  0  0  0  0  0  0  0  0  0  0  0  0  0  0]\n",
      " [ 0  0 59  0  0  0  0  0  0  0  0  0  0  0  0  0  0  0  0  0]\n",
      " [ 0  0  0 63  0  0  0  0  0  0  0  0  0  0  0  0  0  0  0  0]\n",
      " [ 0  0  0  0 65  0  0  0  0  0  0  0  0  0  0  0  0  0  0  0]\n",
      " [ 0  0  0  0  0 65  0  0  0  0  0  0  0  0  0  0  0  0  0  0]\n",
      " [ 0  0  0  0  0  0 70  0  0  0  0  0  0  0  0  0  0  0  0  0]\n",
      " [ 0  0  0  0  0  0  0 66  0  0  0  0  0  0  0  0  0  0  0  0]\n",
      " [ 0  0  0  0  0  0  0  0 57  0  0  0  0  0  0  0  0  0  0  0]\n",
      " [ 0  0  0  0  0  0  0  0  0 62  0  0  0  0  0  0  0  0  0  0]\n",
      " [ 0  0  0  0  0  0  0  0  0  0 66  0  0  0  0  0  0  0  0  0]\n",
      " [ 0  0  0  0  0  0  0  0  0  0  0 56  0  0  0  0  0  0  0  0]\n",
      " [ 0  0  0  0  0  0  0  0  0  0  0  0 66  0  0  0  0  0  0  0]\n",
      " [ 0  0  0  0  0  0  0  0  0  0  0  0  0 60  0  0  0  0  0  0]\n",
      " [ 0  0  0  0  0  0  0  0  0  0  0  0  0  0 73  0  0  0  0  0]\n",
      " [ 0  0  0  0  0  0  0  0  0  0  0  0  0  0  0 58  0  0  0  0]\n",
      " [ 0  0  0  0  0  0  0  0  0  0  0  0  0  0  0  0 66  0  0  0]\n",
      " [ 0  0  0  0  0  0  0  0  0  0  0  0  0  0  0  0  0 76  0  0]\n",
      " [ 0  0  0  0  0  0  0  0  0  0  0  0  0  0  0  0  0  0 73  0]\n",
      " [ 0  0  0  0  0  0  0  0  0  0  0  0  0  0  0  0  0  0  0 61]]\n",
      "Training Score:\n",
      " 100.0\n",
      "100.0\n"
     ]
    }
   ],
   "source": [
    "y_pred=gnb.predict(x_test)\n",
    "from sklearn.metrics import accuracy_score,classification_report,confusion_matrix\n",
    "from sklearn.metrics import r2_score\n",
    "from sklearn.metrics import mean_squared_error\n",
    "print(\"Classification Report is:\\n\",classification_report(y_test,y_pred))\n",
    "print(\"Confusion Matrix:\\n\",confusion_matrix(y_test,y_pred))\n",
    "print(\"Training Score:\\n\",gnb.score(x_train,y_train)*100)\n",
    "print(accuracy_score(y_test,y_pred)*100)\n"
   ]
  },
  {
   "cell_type": "markdown",
   "id": "c68d259e",
   "metadata": {
    "papermill": {
     "duration": 0.091098,
     "end_time": "2021-07-20T06:02:24.516503",
     "exception": false,
     "start_time": "2021-07-20T06:02:24.425405",
     "status": "completed"
    },
    "tags": []
   },
   "source": [
    "**3. DECISION TREE CLASSIFIER**\n",
    "\n",
    "**Decision trees use multiple algorithms to decide to split a node into two or more sub-nodes. The creation of sub-nodes increases the homogeneity of resultant sub-nodes. ... The decision tree splits the nodes on all available variables and then selects the split which results in most homogeneous sub-nodes.**\n",
    "\n"
   ]
  },
  {
   "cell_type": "code",
   "execution_count": 43,
   "id": "15c7cce9",
   "metadata": {
    "papermill": {
     "duration": 0.143874,
     "end_time": "2021-07-20T06:02:24.751907",
     "exception": false,
     "start_time": "2021-07-20T06:02:24.608033",
     "status": "completed"
    },
    "tags": []
   },
   "outputs": [
    {
     "data": {
      "text/plain": [
       "DecisionTreeClassifier(criterion='entropy', max_depth=6, random_state=123)"
      ]
     },
     "execution_count": 43,
     "metadata": {},
     "output_type": "execute_result"
    }
   ],
   "source": [
    "from sklearn.tree import DecisionTreeClassifier\n",
    "dtree = DecisionTreeClassifier(max_depth=6, random_state=123,criterion='entropy')\n",
    "\n",
    "dtree.fit(x_train,y_train)\n"
   ]
  },
  {
   "cell_type": "code",
   "execution_count": 44,
   "id": "bd6386a4",
   "metadata": {
    "papermill": {
     "duration": 0.120383,
     "end_time": "2021-07-20T06:02:24.965531",
     "exception": false,
     "start_time": "2021-07-20T06:02:24.845148",
     "status": "completed"
    },
    "tags": []
   },
   "outputs": [
    {
     "name": "stdout",
     "output_type": "stream",
     "text": [
      "[[51  0  0  0  0  0  0  0  0  0  0  0  0  0  0  0  0  0  0  0]\n",
      " [ 0 72  0  0  0  0  0  0  0  0  0  0  0  0  0  0  0  0  0  0]\n",
      " [ 0  0 59  0  0  0  0  0  0  0  0  0  0  0  0  0  0  0  0  0]\n",
      " [ 0  0  0 63  0  0  0  0  0  0  0  0  0  0  0  0  0  0  0  0]\n",
      " [ 0  0  0  0 65  0  0  0  0  0  0  0  0  0  0  0  0  0  0  0]\n",
      " [ 0  0  0  0  0 65  0  0  0  0  0  0  0  0  0  0  0  0  0  0]\n",
      " [ 0  0  0  0  0  0 70  0  0  0  0  0  0  0  0  0  0  0  0  0]\n",
      " [ 0  0  0  0  0  0  0 66  0  0  0  0  0  0  0  0  0  0  0  0]\n",
      " [ 0  0  0  0  0  0  0  0 57  0  0  0  0  0  0  0  0  0  0  0]\n",
      " [ 0  0  0  0  0  0  0  0  0 62  0  0  0  0  0  0  0  0  0  0]\n",
      " [ 0  0  0  0  0  0  0  0  0  0 66  0  0  0  0  0  0  0  0  0]\n",
      " [ 0  0  0  0  0  0  0  0  0  0  0 56  0  0  0  0  0  0  0  0]\n",
      " [ 0  0  0  0  0  0  0  0  0  0  0  0 66  0  0  0  0  0  0  0]\n",
      " [ 0  0  0  0  0  0  0  0  0  0  0  0  0 60  0  0  0  0  0  0]\n",
      " [ 0  0  0  0  0  0  0  0  0  0  0  0  0  0 73  0  0  0  0  0]\n",
      " [ 0  0  0  0  0  0  0  0  0  0  0  0  0  0  0 58  0  0  0  0]\n",
      " [ 0  0  0  0  0  0  0  0  0  0  0  0  0  0  0  0 66  0  0  0]\n",
      " [ 0  0  0  0  0  0  0  0  0  0  0  0  0  0  0  0  0 76  0  0]\n",
      " [ 0  0  0  0  0  0  0  0  0  0  0  0  0  0  0  0  0  0 73  0]\n",
      " [ 0  0  0  0  0  0  0  0  0  0  0  0  0  0  0  0  0  0  0 61]]\n",
      "              precision    recall  f1-score   support\n",
      "\n",
      "        1998       1.00      1.00      1.00        51\n",
      "        1999       1.00      1.00      1.00        72\n",
      "        2000       1.00      1.00      1.00        59\n",
      "        2001       1.00      1.00      1.00        63\n",
      "        2002       1.00      1.00      1.00        65\n",
      "        2003       1.00      1.00      1.00        65\n",
      "        2004       1.00      1.00      1.00        70\n",
      "        2005       1.00      1.00      1.00        66\n",
      "        2006       1.00      1.00      1.00        57\n",
      "        2007       1.00      1.00      1.00        62\n",
      "        2008       1.00      1.00      1.00        66\n",
      "        2009       1.00      1.00      1.00        56\n",
      "        2010       1.00      1.00      1.00        66\n",
      "        2011       1.00      1.00      1.00        60\n",
      "        2012       1.00      1.00      1.00        73\n",
      "        2013       1.00      1.00      1.00        58\n",
      "        2014       1.00      1.00      1.00        66\n",
      "        2015       1.00      1.00      1.00        76\n",
      "        2016       1.00      1.00      1.00        73\n",
      "        2017       1.00      1.00      1.00        61\n",
      "\n",
      "    accuracy                           1.00      1285\n",
      "   macro avg       1.00      1.00      1.00      1285\n",
      "weighted avg       1.00      1.00      1.00      1285\n",
      "\n",
      "Training Score:\n",
      " 100.0\n"
     ]
    }
   ],
   "source": [
    "from sklearn.metrics import classification_report,mean_squared_error\n",
    "y_pred=dtree.predict(x_test)\n",
    "conf =print(confusion_matrix(y_test, y_pred))\n",
    "clf =print(classification_report(y_test, y_pred))\n",
    "print(\"Training Score:\\n\",dtree.score(x_train,y_train)*100)\n"
   ]
  },
  {
   "cell_type": "markdown",
   "id": "4fa717c5",
   "metadata": {
    "papermill": {
     "duration": 0.093701,
     "end_time": "2021-07-20T06:02:25.152834",
     "exception": false,
     "start_time": "2021-07-20T06:02:25.059133",
     "status": "completed"
    },
    "tags": []
   },
   "source": [
    "**4.Random Forest Classifier**\n",
    "\n",
    "**A random forest classifier. A random forest is a meta estimator that fits a number of decision tree classifiers on various sub-samples of the dataset and uses averaging to improve the predictive accuracy and control over-fitting.**"
   ]
  },
  {
   "cell_type": "code",
   "execution_count": 45,
   "id": "9a6a9946",
   "metadata": {
    "papermill": {
     "duration": 0.854929,
     "end_time": "2021-07-20T06:02:26.100102",
     "exception": false,
     "start_time": "2021-07-20T06:02:25.245173",
     "status": "completed"
    },
    "tags": []
   },
   "outputs": [
    {
     "data": {
      "text/plain": [
       "RandomForestClassifier()"
      ]
     },
     "execution_count": 45,
     "metadata": {},
     "output_type": "execute_result"
    }
   ],
   "source": [
    "from sklearn.ensemble import RandomForestClassifier\n",
    "from sklearn.model_selection import GridSearchCV\n",
    "rfc=RandomForestClassifier()\n",
    "rfc.fit(x_train,y_train)\n"
   ]
  },
  {
   "cell_type": "code",
   "execution_count": 46,
   "id": "86b2dc66",
   "metadata": {
    "papermill": {
     "duration": 0.295288,
     "end_time": "2021-07-20T06:02:26.488937",
     "exception": false,
     "start_time": "2021-07-20T06:02:26.193649",
     "status": "completed"
    },
    "tags": []
   },
   "outputs": [
    {
     "name": "stdout",
     "output_type": "stream",
     "text": [
      "[[51  0  0  0  0  0  0  0  0  0  0  0  0  0  0  0  0  0  0  0]\n",
      " [ 0 72  0  0  0  0  0  0  0  0  0  0  0  0  0  0  0  0  0  0]\n",
      " [ 0  0 59  0  0  0  0  0  0  0  0  0  0  0  0  0  0  0  0  0]\n",
      " [ 0  0  0 63  0  0  0  0  0  0  0  0  0  0  0  0  0  0  0  0]\n",
      " [ 0  0  0  0 65  0  0  0  0  0  0  0  0  0  0  0  0  0  0  0]\n",
      " [ 0  0  0  0  0 65  0  0  0  0  0  0  0  0  0  0  0  0  0  0]\n",
      " [ 0  0  0  0  0  0 70  0  0  0  0  0  0  0  0  0  0  0  0  0]\n",
      " [ 0  0  0  0  0  0  0 66  0  0  0  0  0  0  0  0  0  0  0  0]\n",
      " [ 0  0  0  0  0  0  0  0 57  0  0  0  0  0  0  0  0  0  0  0]\n",
      " [ 0  0  0  0  0  0  0  0  0 62  0  0  0  0  0  0  0  0  0  0]\n",
      " [ 0  0  0  0  0  0  0  0  0  0 66  0  0  0  0  0  0  0  0  0]\n",
      " [ 0  0  0  0  0  0  0  0  0  0  0 56  0  0  0  0  0  0  0  0]\n",
      " [ 0  0  0  0  0  0  0  0  0  0  0  0 66  0  0  0  0  0  0  0]\n",
      " [ 0  0  0  0  0  0  0  0  0  0  0  0  2 58  0  0  0  0  0  0]\n",
      " [ 0  0  0  0  0  0  0  0  0  0  0  0  0  0 73  0  0  0  0  0]\n",
      " [ 0  0  0  0  0  0  0  0  0  0  0  0  0  0  1 57  0  0  0  0]\n",
      " [ 0  0  0  0  0  0  0  0  0  0  0  0  0  0  0  1 64  1  0  0]\n",
      " [ 0  0  0  0  0  0  0  0  0  0  0  0  0  0  0  1  1 74  0  0]\n",
      " [ 0  0  0  0  0  0  0  0  0  0  0  0  0  0  0  0  0  1 72  0]\n",
      " [ 0  0  0  0  0  0  0  0  0  0  0  0  0  0  0  0  0  0  0 61]]\n",
      "              precision    recall  f1-score   support\n",
      "\n",
      "        1998       1.00      1.00      1.00        51\n",
      "        1999       1.00      1.00      1.00        72\n",
      "        2000       1.00      1.00      1.00        59\n",
      "        2001       1.00      1.00      1.00        63\n",
      "        2002       1.00      1.00      1.00        65\n",
      "        2003       1.00      1.00      1.00        65\n",
      "        2004       1.00      1.00      1.00        70\n",
      "        2005       1.00      1.00      1.00        66\n",
      "        2006       1.00      1.00      1.00        57\n",
      "        2007       1.00      1.00      1.00        62\n",
      "        2008       1.00      1.00      1.00        66\n",
      "        2009       1.00      1.00      1.00        56\n",
      "        2010       0.97      1.00      0.99        66\n",
      "        2011       1.00      0.97      0.98        60\n",
      "        2012       0.99      1.00      0.99        73\n",
      "        2013       0.97      0.98      0.97        58\n",
      "        2014       0.98      0.97      0.98        66\n",
      "        2015       0.97      0.97      0.97        76\n",
      "        2016       1.00      0.99      0.99        73\n",
      "        2017       1.00      1.00      1.00        61\n",
      "\n",
      "    accuracy                           0.99      1285\n",
      "   macro avg       0.99      0.99      0.99      1285\n",
      "weighted avg       0.99      0.99      0.99      1285\n",
      "\n",
      "Training Score:\n",
      " 100.0\n"
     ]
    }
   ],
   "source": [
    "y_pred=rfc.predict(x_test)\n",
    "conf =print(confusion_matrix(y_test, y_pred))\n",
    "clf =print(classification_report(y_test, y_pred))\n",
    "score=accuracy_score(y_test,y_pred)\n",
    "score\n",
    "print(\"Training Score:\\n\",rfc.score(x_train,y_train)*100)\n"
   ]
  },
  {
   "cell_type": "markdown",
   "id": "d8eb2323",
   "metadata": {
    "papermill": {
     "duration": 0.092388,
     "end_time": "2021-07-20T06:02:26.689208",
     "exception": false,
     "start_time": "2021-07-20T06:02:26.596820",
     "status": "completed"
    },
    "tags": []
   },
   "source": [
    "**5. AdaBoostClassifier**\n",
    "\n",
    "**An AdaBoost classifier is a meta-estimator that begins by fitting a classifier on the original dataset and then fits additional copies of the classifier on the same dataset but where the weights of incorrectly classified instances are adjusted such that subsequent classifiers focus more on difficult cases.**"
   ]
  },
  {
   "cell_type": "code",
   "execution_count": 47,
   "id": "5c81676c",
   "metadata": {
    "papermill": {
     "duration": 0.519577,
     "end_time": "2021-07-20T06:02:27.302213",
     "exception": false,
     "start_time": "2021-07-20T06:02:26.782636",
     "status": "completed"
    },
    "tags": []
   },
   "outputs": [
    {
     "data": {
      "text/plain": [
       "AdaBoostClassifier()"
      ]
     },
     "execution_count": 47,
     "metadata": {},
     "output_type": "execute_result"
    }
   ],
   "source": [
    "from sklearn.ensemble import AdaBoostClassifier\n",
    "adb = AdaBoostClassifier(base_estimator = None)\n",
    "adb.fit(x_train,y_train)"
   ]
  },
  {
   "cell_type": "code",
   "execution_count": 48,
   "id": "bc3fc6fc",
   "metadata": {
    "papermill": {
     "duration": 0.360565,
     "end_time": "2021-07-20T06:02:27.759515",
     "exception": false,
     "start_time": "2021-07-20T06:02:27.398950",
     "status": "completed"
    },
    "tags": []
   },
   "outputs": [
    {
     "name": "stdout",
     "output_type": "stream",
     "text": [
      "[[51  0  0  0  0  0  0  0  0  0  0  0  0  0  0  0  0  0  0  0]\n",
      " [ 0  0 72  0  0  0  0  0  0  0  0  0  0  0  0  0  0  0  0  0]\n",
      " [ 0  0 59  0  0  0  0  0  0  0  0  0  0  0  0  0  0  0  0  0]\n",
      " [ 0  0 63  0  0  0  0  0  0  0  0  0  0  0  0  0  0  0  0  0]\n",
      " [ 0  0 65  0  0  0  0  0  0  0  0  0  0  0  0  0  0  0  0  0]\n",
      " [ 0  0 65  0  0  0  0  0  0  0  0  0  0  0  0  0  0  0  0  0]\n",
      " [ 0  0  0  0  0  0  0  0  0  0  0 70  0  0  0  0  0  0  0  0]\n",
      " [ 0  0  0  0  0  0  0  0  0  0  0 66  0  0  0  0  0  0  0  0]\n",
      " [ 0  0  0  0  0  0  0  0  0  0  0 57  0  0  0  0  0  0  0  0]\n",
      " [ 0  0  0  0  0  0  0  0  0  0  0 62  0  0  0  0  0  0  0  0]\n",
      " [ 0  0  0  0  0  0  0  0  0  0  0 66  0  0  0  0  0  0  0  0]\n",
      " [ 0  0  0  0  0  0  0  0  0  0  0 56  0  0  0  0  0  0  0  0]\n",
      " [ 0  0  0  0  0  0  0  0  0  0  0 66  0  0  0  0  0  0  0  0]\n",
      " [ 0  0  0  0  0  0  0  0  0  0  0 60  0  0  0  0  0  0  0  0]\n",
      " [ 0  0  0  0  0  0  0  0  0  0  0 73  0  0  0  0  0  0  0  0]\n",
      " [ 0  0  0  0  0  0  0  0  0  0  0 58  0  0  0  0  0  0  0  0]\n",
      " [ 0  0  0  0  0  0  0  0  0  0  0 66  0  0  0  0  0  0  0  0]\n",
      " [ 0  0  0  0  0  0  0  0  0  0  0  0  0  0  0  0  0  0 76  0]\n",
      " [ 0  0  0  0  0  0  0  0  0  0  0  0  0  0  0  0  0  0 73  0]\n",
      " [ 0  0  0  0  0  0  0  0  0  0  0  0  0  0  0  0  0  0  0 61]]\n",
      "              precision    recall  f1-score   support\n",
      "\n",
      "        1998       1.00      1.00      1.00        51\n",
      "        1999       0.00      0.00      0.00        72\n",
      "        2000       0.18      1.00      0.31        59\n",
      "        2001       0.00      0.00      0.00        63\n",
      "        2002       0.00      0.00      0.00        65\n",
      "        2003       0.00      0.00      0.00        65\n",
      "        2004       0.00      0.00      0.00        70\n",
      "        2005       0.00      0.00      0.00        66\n",
      "        2006       0.00      0.00      0.00        57\n",
      "        2007       0.00      0.00      0.00        62\n",
      "        2008       0.00      0.00      0.00        66\n",
      "        2009       0.08      1.00      0.15        56\n",
      "        2010       0.00      0.00      0.00        66\n",
      "        2011       0.00      0.00      0.00        60\n",
      "        2012       0.00      0.00      0.00        73\n",
      "        2013       0.00      0.00      0.00        58\n",
      "        2014       0.00      0.00      0.00        66\n",
      "        2015       0.00      0.00      0.00        76\n",
      "        2016       0.49      1.00      0.66        73\n",
      "        2017       1.00      1.00      1.00        61\n",
      "\n",
      "    accuracy                           0.23      1285\n",
      "   macro avg       0.14      0.25      0.16      1285\n",
      "weighted avg       0.13      0.23      0.15      1285\n",
      "\n",
      "Training Score:\n",
      " 24.742067354487055\n"
     ]
    }
   ],
   "source": [
    "y_pred=adb.predict(x_test)\n",
    "conf =print(confusion_matrix(y_test, y_pred))\n",
    "clf =print(classification_report(y_test, y_pred))\n",
    "score=accuracy_score(y_test,y_pred)\n",
    "score\n",
    "print(\"Training Score:\\n\",adb.score(x_train,y_train)*100)\n"
   ]
  },
  {
   "cell_type": "markdown",
   "id": "f23c1291",
   "metadata": {
    "papermill": {
     "duration": 0.095053,
     "end_time": "2021-07-20T06:02:27.949704",
     "exception": false,
     "start_time": "2021-07-20T06:02:27.854651",
     "status": "completed"
    },
    "tags": []
   },
   "source": [
    "**6. Gradient Boosting Classifier**\n",
    "\n",
    "**Gradient boosting classifiers are a group of machine learning algorithms that combine many weak learning models together to create a strong predictive model. Decision trees are usually used when doing gradient boosting.**"
   ]
  },
  {
   "cell_type": "code",
   "execution_count": 49,
   "id": "294eb1d4",
   "metadata": {
    "papermill": {
     "duration": 14.467981,
     "end_time": "2021-07-20T06:02:42.512825",
     "exception": false,
     "start_time": "2021-07-20T06:02:28.044844",
     "status": "completed"
    },
    "tags": []
   },
   "outputs": [
    {
     "data": {
      "text/plain": [
       "GradientBoostingClassifier()"
      ]
     },
     "execution_count": 49,
     "metadata": {},
     "output_type": "execute_result"
    }
   ],
   "source": [
    "from sklearn.ensemble import GradientBoostingClassifier\n",
    "gbc=GradientBoostingClassifier()\n",
    "gbc.fit(x_train,y_train)"
   ]
  },
  {
   "cell_type": "code",
   "execution_count": 50,
   "id": "ea55262f",
   "metadata": {
    "papermill": {
     "duration": 0.356645,
     "end_time": "2021-07-20T06:02:43.014152",
     "exception": false,
     "start_time": "2021-07-20T06:02:42.657507",
     "status": "completed"
    },
    "tags": []
   },
   "outputs": [
    {
     "name": "stdout",
     "output_type": "stream",
     "text": [
      "[[51  0  0  0  0  0  0  0  0  0  0  0  0  0  0  0  0  0  0  0]\n",
      " [ 0 72  0  0  0  0  0  0  0  0  0  0  0  0  0  0  0  0  0  0]\n",
      " [ 0  0 59  0  0  0  0  0  0  0  0  0  0  0  0  0  0  0  0  0]\n",
      " [ 0  0  0 63  0  0  0  0  0  0  0  0  0  0  0  0  0  0  0  0]\n",
      " [ 0  0  0  0 65  0  0  0  0  0  0  0  0  0  0  0  0  0  0  0]\n",
      " [ 0  0  0  0  0 65  0  0  0  0  0  0  0  0  0  0  0  0  0  0]\n",
      " [ 0  0  0  0  0  0 70  0  0  0  0  0  0  0  0  0  0  0  0  0]\n",
      " [ 0  0  0  0  0  0  0 66  0  0  0  0  0  0  0  0  0  0  0  0]\n",
      " [ 0  0  0  0  0  0  0  0 57  0  0  0  0  0  0  0  0  0  0  0]\n",
      " [ 0  0  0  0  0  0  0  0  0 62  0  0  0  0  0  0  0  0  0  0]\n",
      " [ 0  0  0  0  0  0  0  0  0  0 66  0  0  0  0  0  0  0  0  0]\n",
      " [ 0  0  0  0  0  0  0  0  0  0  0 56  0  0  0  0  0  0  0  0]\n",
      " [ 0  0  0  0  0  0  0  0  0  0  0  0 66  0  0  0  0  0  0  0]\n",
      " [ 0  0  0  0  0  0  0  0  0  0  0  0  0 60  0  0  0  0  0  0]\n",
      " [ 0  0  0  0  0  0  0  0  0  0  0  0  0  0 73  0  0  0  0  0]\n",
      " [ 0  0  0  0  0  0  0  0  0  0  0  0  0  0  0 58  0  0  0  0]\n",
      " [ 0  0  0  0  0  0  0  0  0  0  0  0  0  0  0  0 66  0  0  0]\n",
      " [ 0  0  0  0  0  0  0  0  0  0  0  0  0  0  0  0  0 76  0  0]\n",
      " [ 0  0  0  0  0  0  0  0  0  0  0  0  0  0  0  0  0  0 73  0]\n",
      " [ 0  0  0  0  0  0  0  0  0  0  0  0  0  0  0  0  0  0  0 61]]\n",
      "              precision    recall  f1-score   support\n",
      "\n",
      "        1998       1.00      1.00      1.00        51\n",
      "        1999       1.00      1.00      1.00        72\n",
      "        2000       1.00      1.00      1.00        59\n",
      "        2001       1.00      1.00      1.00        63\n",
      "        2002       1.00      1.00      1.00        65\n",
      "        2003       1.00      1.00      1.00        65\n",
      "        2004       1.00      1.00      1.00        70\n",
      "        2005       1.00      1.00      1.00        66\n",
      "        2006       1.00      1.00      1.00        57\n",
      "        2007       1.00      1.00      1.00        62\n",
      "        2008       1.00      1.00      1.00        66\n",
      "        2009       1.00      1.00      1.00        56\n",
      "        2010       1.00      1.00      1.00        66\n",
      "        2011       1.00      1.00      1.00        60\n",
      "        2012       1.00      1.00      1.00        73\n",
      "        2013       1.00      1.00      1.00        58\n",
      "        2014       1.00      1.00      1.00        66\n",
      "        2015       1.00      1.00      1.00        76\n",
      "        2016       1.00      1.00      1.00        73\n",
      "        2017       1.00      1.00      1.00        61\n",
      "\n",
      "    accuracy                           1.00      1285\n",
      "   macro avg       1.00      1.00      1.00      1285\n",
      "weighted avg       1.00      1.00      1.00      1285\n",
      "\n",
      "1.0\n",
      "Training Score:\n",
      " 100.0\n"
     ]
    }
   ],
   "source": [
    "y_pred=gbc.predict(x_test)\n",
    "conf =print(confusion_matrix(y_test, y_pred))\n",
    "clf =print(classification_report(y_test, y_pred))\n",
    "score=accuracy_score(y_test,y_pred)\n",
    "print(score)\n",
    "print(\"Training Score:\\n\",gbc.score(x_train,y_train)*100)\n"
   ]
  },
  {
   "cell_type": "code",
   "execution_count": 51,
   "id": "fd5a9ddd",
   "metadata": {
    "papermill": {
     "duration": 0.113112,
     "end_time": "2021-07-20T06:02:43.224074",
     "exception": false,
     "start_time": "2021-07-20T06:02:43.110962",
     "status": "completed"
    },
    "tags": []
   },
   "outputs": [
    {
     "data": {
      "text/html": [
       "<div>\n",
       "<style scoped>\n",
       "    .dataframe tbody tr th:only-of-type {\n",
       "        vertical-align: middle;\n",
       "    }\n",
       "\n",
       "    .dataframe tbody tr th {\n",
       "        vertical-align: top;\n",
       "    }\n",
       "\n",
       "    .dataframe thead th {\n",
       "        text-align: right;\n",
       "    }\n",
       "</style>\n",
       "<table border=\"1\" class=\"dataframe\">\n",
       "  <thead>\n",
       "    <tr style=\"text-align: right;\">\n",
       "      <th></th>\n",
       "      <th>Actual</th>\n",
       "      <th>Predicted</th>\n",
       "    </tr>\n",
       "  </thead>\n",
       "  <tbody>\n",
       "    <tr>\n",
       "      <th>148</th>\n",
       "      <td>2006</td>\n",
       "      <td>2006</td>\n",
       "    </tr>\n",
       "    <tr>\n",
       "      <th>1548</th>\n",
       "      <td>2011</td>\n",
       "      <td>2011</td>\n",
       "    </tr>\n",
       "    <tr>\n",
       "      <th>3526</th>\n",
       "      <td>2017</td>\n",
       "      <td>2017</td>\n",
       "    </tr>\n",
       "    <tr>\n",
       "      <th>5900</th>\n",
       "      <td>2001</td>\n",
       "      <td>2001</td>\n",
       "    </tr>\n",
       "    <tr>\n",
       "      <th>3906</th>\n",
       "      <td>1999</td>\n",
       "      <td>1999</td>\n",
       "    </tr>\n",
       "    <tr>\n",
       "      <th>...</th>\n",
       "      <td>...</td>\n",
       "      <td>...</td>\n",
       "    </tr>\n",
       "    <tr>\n",
       "      <th>4611</th>\n",
       "      <td>2007</td>\n",
       "      <td>2007</td>\n",
       "    </tr>\n",
       "    <tr>\n",
       "      <th>2732</th>\n",
       "      <td>2000</td>\n",
       "      <td>2000</td>\n",
       "    </tr>\n",
       "    <tr>\n",
       "      <th>1892</th>\n",
       "      <td>2016</td>\n",
       "      <td>2016</td>\n",
       "    </tr>\n",
       "    <tr>\n",
       "      <th>3308</th>\n",
       "      <td>1998</td>\n",
       "      <td>1998</td>\n",
       "    </tr>\n",
       "    <tr>\n",
       "      <th>1032</th>\n",
       "      <td>2013</td>\n",
       "      <td>2013</td>\n",
       "    </tr>\n",
       "  </tbody>\n",
       "</table>\n",
       "<p>1285 rows × 2 columns</p>\n",
       "</div>"
      ],
      "text/plain": [
       "      Actual  Predicted\n",
       "148     2006       2006\n",
       "1548    2011       2011\n",
       "3526    2017       2017\n",
       "5900    2001       2001\n",
       "3906    1999       1999\n",
       "...      ...        ...\n",
       "4611    2007       2007\n",
       "2732    2000       2000\n",
       "1892    2016       2016\n",
       "3308    1998       1998\n",
       "1032    2013       2013\n",
       "\n",
       "[1285 rows x 2 columns]"
      ]
     },
     "execution_count": 51,
     "metadata": {},
     "output_type": "execute_result"
    }
   ],
   "source": [
    "data = pd.DataFrame({'Actual': y_test, 'Predicted': y_pred})\n",
    "data"
   ]
  },
  {
   "cell_type": "markdown",
   "id": "b77c29e9",
   "metadata": {
    "papermill": {
     "duration": 0.095385,
     "end_time": "2021-07-20T06:02:43.415894",
     "exception": false,
     "start_time": "2021-07-20T06:02:43.320509",
     "status": "completed"
    },
    "tags": []
   },
   "source": [
    "**7. XGBClassifier**\n",
    "\n",
    "**XGBoost is a popular and efficient open-source implementation of the gradient boosted trees algorithm. Gradient boosting is a supervised learning algorithm, which attempts to accurately predict a target variable by combining the estimates of a set of simpler, weaker models.**\n",
    "\n"
   ]
  },
  {
   "cell_type": "code",
   "execution_count": 52,
   "id": "66adf5f1",
   "metadata": {
    "papermill": {
     "duration": 0.317102,
     "end_time": "2021-07-20T06:02:43.828334",
     "exception": false,
     "start_time": "2021-07-20T06:02:43.511232",
     "status": "completed"
    },
    "tags": []
   },
   "outputs": [
    {
     "name": "stdout",
     "output_type": "stream",
     "text": [
      "[16:58:00] WARNING: C:/Users/Administrator/workspace/xgboost-win64_release_1.5.1/src/learner.cc:1115: Starting in XGBoost 1.3.0, the default evaluation metric used with the objective 'multi:softprob' was changed from 'merror' to 'mlogloss'. Explicitly set eval_metric if you'd like to restore the old behavior.\n"
     ]
    },
    {
     "data": {
      "text/plain": [
       "XGBClassifier(alpha=10, base_score=0.5, booster='gbtree', colsample_bylevel=1,\n",
       "              colsample_bynode=1, colsample_bytree=0.3,\n",
       "              enable_categorical=False, gamma=0, gpu_id=-1,\n",
       "              importance_type=None, interaction_constraints='',\n",
       "              learning_rate=0.1, max_delta_step=0, max_depth=5,\n",
       "              min_child_weight=1, missing=nan, monotone_constraints='()',\n",
       "              n_estimators=10, n_jobs=8, num_parallel_tree=1,\n",
       "              objective='multi:softprob', predictor='auto', random_state=0,\n",
       "              reg_alpha=10, reg_lambda=1, scale_pos_weight=None, subsample=1,\n",
       "              tree_method='exact', validate_parameters=1, verbosity=None)"
      ]
     },
     "execution_count": 52,
     "metadata": {},
     "output_type": "execute_result"
    }
   ],
   "source": [
    "from xgboost import XGBClassifier\n",
    "\n",
    "xgb =XGBClassifier(objective ='reg:linear', colsample_bytree = 0.3, learning_rate = 0.1,\n",
    "                max_depth = 5, alpha = 10, n_estimators = 10)\n",
    "\n",
    "xgb.fit(x_train, y_train)\n"
   ]
  },
  {
   "cell_type": "code",
   "execution_count": 53,
   "id": "0fa8fd42",
   "metadata": {
    "papermill": {
     "duration": 0.142295,
     "end_time": "2021-07-20T06:02:44.068235",
     "exception": false,
     "start_time": "2021-07-20T06:02:43.925940",
     "status": "completed"
    },
    "tags": []
   },
   "outputs": [
    {
     "name": "stdout",
     "output_type": "stream",
     "text": [
      "[[51  0  0  0  0  0  0  0  0  0  0  0  0  0  0  0  0  0  0  0]\n",
      " [ 0 72  0  0  0  0  0  0  0  0  0  0  0  0  0  0  0  0  0  0]\n",
      " [ 0  0 59  0  0  0  0  0  0  0  0  0  0  0  0  0  0  0  0  0]\n",
      " [ 0  0  0 63  0  0  0  0  0  0  0  0  0  0  0  0  0  0  0  0]\n",
      " [ 0  0  0  0 65  0  0  0  0  0  0  0  0  0  0  0  0  0  0  0]\n",
      " [ 0  0  0  0  0 65  0  0  0  0  0  0  0  0  0  0  0  0  0  0]\n",
      " [ 0  0  0  0  0  0 70  0  0  0  0  0  0  0  0  0  0  0  0  0]\n",
      " [ 0  0  0  0  0  0  0 66  0  0  0  0  0  0  0  0  0  0  0  0]\n",
      " [ 0  0  0  0  0  0  0  0 57  0  0  0  0  0  0  0  0  0  0  0]\n",
      " [ 0  0  0  0  0  0  0  0  0 62  0  0  0  0  0  0  0  0  0  0]\n",
      " [ 0  0  0  0  0  0  0  0  0  0 66  0  0  0  0  0  0  0  0  0]\n",
      " [ 0  0  0  0  0  0  0  0  0  0  0 56  0  0  0  0  0  0  0  0]\n",
      " [ 0  0  0  0  0  0  0  0  0  0  0  0 66  0  0  0  0  0  0  0]\n",
      " [ 0  0  0  0  0  0  0  0  0  0  0  0  0 60  0  0  0  0  0  0]\n",
      " [ 0  0  0  0  0  0  0  0  0  0  0  0  0  0 73  0  0  0  0  0]\n",
      " [ 0  0  0  0  0  0  0  0  0  0  0  0  0  0  0 58  0  0  0  0]\n",
      " [ 0  0  0  0  0  0  0  0  0  0  0  0  0  0  0  0 66  0  0  0]\n",
      " [ 0  0  0  0  0  0  0  0  0  0  0  0  0  0  0  0  0 76  0  0]\n",
      " [ 0  0  0  0  0  0  0  0  0  0  0  0  0  0  0  0  0  0 73  0]\n",
      " [ 0  0  0  0  0  0  0  0  0  0  0  0  0  0  0  0  0  0  0 61]]\n",
      "              precision    recall  f1-score   support\n",
      "\n",
      "        1998       1.00      1.00      1.00        51\n",
      "        1999       1.00      1.00      1.00        72\n",
      "        2000       1.00      1.00      1.00        59\n",
      "        2001       1.00      1.00      1.00        63\n",
      "        2002       1.00      1.00      1.00        65\n",
      "        2003       1.00      1.00      1.00        65\n",
      "        2004       1.00      1.00      1.00        70\n",
      "        2005       1.00      1.00      1.00        66\n",
      "        2006       1.00      1.00      1.00        57\n",
      "        2007       1.00      1.00      1.00        62\n",
      "        2008       1.00      1.00      1.00        66\n",
      "        2009       1.00      1.00      1.00        56\n",
      "        2010       1.00      1.00      1.00        66\n",
      "        2011       1.00      1.00      1.00        60\n",
      "        2012       1.00      1.00      1.00        73\n",
      "        2013       1.00      1.00      1.00        58\n",
      "        2014       1.00      1.00      1.00        66\n",
      "        2015       1.00      1.00      1.00        76\n",
      "        2016       1.00      1.00      1.00        73\n",
      "        2017       1.00      1.00      1.00        61\n",
      "\n",
      "    accuracy                           1.00      1285\n",
      "   macro avg       1.00      1.00      1.00      1285\n",
      "weighted avg       1.00      1.00      1.00      1285\n",
      "\n",
      "Training Score:\n",
      " 100.0\n"
     ]
    }
   ],
   "source": [
    "y_pred=xgb.predict(x_test)\n",
    "conf =print(confusion_matrix(y_test, y_pred))\n",
    "clf =print(classification_report(y_test, y_pred))\n",
    "score=accuracy_score(y_test,y_pred)\n",
    "score\n",
    "print(\"Training Score:\\n\",xgb.score(x_train,y_train)*100)\n"
   ]
  },
  {
   "cell_type": "markdown",
   "id": "5c9d331b",
   "metadata": {
    "papermill": {
     "duration": 0.097329,
     "end_time": "2021-07-20T06:02:44.265112",
     "exception": false,
     "start_time": "2021-07-20T06:02:44.167783",
     "status": "completed"
    },
    "tags": []
   },
   "source": []
  },
  {
   "cell_type": "markdown",
   "id": "b77c843f",
   "metadata": {
    "papermill": {
     "duration": 0.095937,
     "end_time": "2021-07-20T06:02:44.458896",
     "exception": false,
     "start_time": "2021-07-20T06:02:44.362959",
     "status": "completed"
    },
    "tags": []
   },
   "source": [
    "**8. ExtraTreesClassifier**\n",
    "\n",
    "**Extremely Randomized Trees Classifier(Extra Trees Classifier) is a type of ensemble learning technique which aggregates the results of multiple de-correlated decision trees collected in a “forest” to output it's classification result.**\n",
    "\n"
   ]
  },
  {
   "cell_type": "code",
   "execution_count": 54,
   "id": "136d1392",
   "metadata": {
    "papermill": {
     "duration": 0.511004,
     "end_time": "2021-07-20T06:02:45.066234",
     "exception": false,
     "start_time": "2021-07-20T06:02:44.555230",
     "status": "completed"
    },
    "tags": []
   },
   "outputs": [
    {
     "data": {
      "text/plain": [
       "ExtraTreesClassifier(random_state=0)"
      ]
     },
     "execution_count": 54,
     "metadata": {},
     "output_type": "execute_result"
    }
   ],
   "source": [
    "from sklearn.ensemble import ExtraTreesClassifier\n",
    "etc = ExtraTreesClassifier(n_estimators=100, random_state=0)\n",
    "etc.fit(x_train,y_train)\n"
   ]
  },
  {
   "cell_type": "code",
   "execution_count": 55,
   "id": "c0d2e2a6",
   "metadata": {
    "papermill": {
     "duration": 0.275647,
     "end_time": "2021-07-20T06:02:45.440578",
     "exception": false,
     "start_time": "2021-07-20T06:02:45.164931",
     "status": "completed"
    },
    "tags": []
   },
   "outputs": [
    {
     "name": "stdout",
     "output_type": "stream",
     "text": [
      "[[51  0  0  0  0  0  0  0  0  0  0  0  0  0  0  0  0  0  0  0]\n",
      " [ 0 72  0  0  0  0  0  0  0  0  0  0  0  0  0  0  0  0  0  0]\n",
      " [ 0  0 59  0  0  0  0  0  0  0  0  0  0  0  0  0  0  0  0  0]\n",
      " [ 0  0  0 63  0  0  0  0  0  0  0  0  0  0  0  0  0  0  0  0]\n",
      " [ 0  0  0  0 65  0  0  0  0  0  0  0  0  0  0  0  0  0  0  0]\n",
      " [ 0  0  0  0  0 65  0  0  0  0  0  0  0  0  0  0  0  0  0  0]\n",
      " [ 0  0  0  0  0  0 70  0  0  0  0  0  0  0  0  0  0  0  0  0]\n",
      " [ 0  0  0  0  0  0  0 66  0  0  0  0  0  0  0  0  0  0  0  0]\n",
      " [ 0  0  0  0  0  0  0  0 57  0  0  0  0  0  0  0  0  0  0  0]\n",
      " [ 0  0  0  0  0  0  0  0  0 62  0  0  0  0  0  0  0  0  0  0]\n",
      " [ 0  0  0  0  0  0  0  0  0  0 66  0  0  0  0  0  0  0  0  0]\n",
      " [ 0  0  0  0  0  0  0  0  0  0  0 56  0  0  0  0  0  0  0  0]\n",
      " [ 0  0  0  0  0  0  0  0  0  0  0  0 66  0  0  0  0  0  0  0]\n",
      " [ 0  0  0  0  0  0  0  0  0  0  0  0  0 60  0  0  0  0  0  0]\n",
      " [ 0  0  0  0  0  0  0  0  0  0  0  0  0  0 73  0  0  0  0  0]\n",
      " [ 0  0  0  0  0  0  0  0  0  0  0  0  0  0  0 58  0  0  0  0]\n",
      " [ 0  0  0  0  0  0  0  0  0  0  0  0  0  0  0  0 66  0  0  0]\n",
      " [ 0  0  0  0  0  0  0  0  0  0  0  0  0  0  0  0  0 76  0  0]\n",
      " [ 0  0  0  0  0  0  0  0  0  0  0  0  0  0  0  0  0  0 73  0]\n",
      " [ 0  0  0  0  0  0  0  0  0  0  0  0  0  0  0  0  0  0  0 61]]\n",
      "              precision    recall  f1-score   support\n",
      "\n",
      "        1998       1.00      1.00      1.00        51\n",
      "        1999       1.00      1.00      1.00        72\n",
      "        2000       1.00      1.00      1.00        59\n",
      "        2001       1.00      1.00      1.00        63\n",
      "        2002       1.00      1.00      1.00        65\n",
      "        2003       1.00      1.00      1.00        65\n",
      "        2004       1.00      1.00      1.00        70\n",
      "        2005       1.00      1.00      1.00        66\n",
      "        2006       1.00      1.00      1.00        57\n",
      "        2007       1.00      1.00      1.00        62\n",
      "        2008       1.00      1.00      1.00        66\n",
      "        2009       1.00      1.00      1.00        56\n",
      "        2010       1.00      1.00      1.00        66\n",
      "        2011       1.00      1.00      1.00        60\n",
      "        2012       1.00      1.00      1.00        73\n",
      "        2013       1.00      1.00      1.00        58\n",
      "        2014       1.00      1.00      1.00        66\n",
      "        2015       1.00      1.00      1.00        76\n",
      "        2016       1.00      1.00      1.00        73\n",
      "        2017       1.00      1.00      1.00        61\n",
      "\n",
      "    accuracy                           1.00      1285\n",
      "   macro avg       1.00      1.00      1.00      1285\n",
      "weighted avg       1.00      1.00      1.00      1285\n",
      "\n",
      "Training Score:\n",
      " 100.0\n"
     ]
    }
   ],
   "source": [
    "y_pred=etc.predict(x_test)\n",
    "conf =print(confusion_matrix(y_test, y_pred))\n",
    "clf =print(classification_report(y_test, y_pred))\n",
    "score=accuracy_score(y_test,y_pred)\n",
    "print(\"Training Score:\\n\",etc.score(x_train,y_train)*100)\n"
   ]
  },
  {
   "cell_type": "code",
   "execution_count": 56,
   "id": "ec3e3391",
   "metadata": {
    "papermill": {
     "duration": 0.112559,
     "end_time": "2021-07-20T06:02:45.650882",
     "exception": false,
     "start_time": "2021-07-20T06:02:45.538323",
     "status": "completed"
    },
    "tags": []
   },
   "outputs": [
    {
     "data": {
      "text/html": [
       "<div>\n",
       "<style scoped>\n",
       "    .dataframe tbody tr th:only-of-type {\n",
       "        vertical-align: middle;\n",
       "    }\n",
       "\n",
       "    .dataframe tbody tr th {\n",
       "        vertical-align: top;\n",
       "    }\n",
       "\n",
       "    .dataframe thead th {\n",
       "        text-align: right;\n",
       "    }\n",
       "</style>\n",
       "<table border=\"1\" class=\"dataframe\">\n",
       "  <thead>\n",
       "    <tr style=\"text-align: right;\">\n",
       "      <th></th>\n",
       "      <th>Actual</th>\n",
       "      <th>Predicted</th>\n",
       "    </tr>\n",
       "  </thead>\n",
       "  <tbody>\n",
       "    <tr>\n",
       "      <th>148</th>\n",
       "      <td>2006</td>\n",
       "      <td>2006</td>\n",
       "    </tr>\n",
       "    <tr>\n",
       "      <th>1548</th>\n",
       "      <td>2011</td>\n",
       "      <td>2011</td>\n",
       "    </tr>\n",
       "    <tr>\n",
       "      <th>3526</th>\n",
       "      <td>2017</td>\n",
       "      <td>2017</td>\n",
       "    </tr>\n",
       "    <tr>\n",
       "      <th>5900</th>\n",
       "      <td>2001</td>\n",
       "      <td>2001</td>\n",
       "    </tr>\n",
       "    <tr>\n",
       "      <th>3906</th>\n",
       "      <td>1999</td>\n",
       "      <td>1999</td>\n",
       "    </tr>\n",
       "    <tr>\n",
       "      <th>...</th>\n",
       "      <td>...</td>\n",
       "      <td>...</td>\n",
       "    </tr>\n",
       "    <tr>\n",
       "      <th>4611</th>\n",
       "      <td>2007</td>\n",
       "      <td>2007</td>\n",
       "    </tr>\n",
       "    <tr>\n",
       "      <th>2732</th>\n",
       "      <td>2000</td>\n",
       "      <td>2000</td>\n",
       "    </tr>\n",
       "    <tr>\n",
       "      <th>1892</th>\n",
       "      <td>2016</td>\n",
       "      <td>2016</td>\n",
       "    </tr>\n",
       "    <tr>\n",
       "      <th>3308</th>\n",
       "      <td>1998</td>\n",
       "      <td>1998</td>\n",
       "    </tr>\n",
       "    <tr>\n",
       "      <th>1032</th>\n",
       "      <td>2013</td>\n",
       "      <td>2013</td>\n",
       "    </tr>\n",
       "  </tbody>\n",
       "</table>\n",
       "<p>1285 rows × 2 columns</p>\n",
       "</div>"
      ],
      "text/plain": [
       "      Actual  Predicted\n",
       "148     2006       2006\n",
       "1548    2011       2011\n",
       "3526    2017       2017\n",
       "5900    2001       2001\n",
       "3906    1999       1999\n",
       "...      ...        ...\n",
       "4611    2007       2007\n",
       "2732    2000       2000\n",
       "1892    2016       2016\n",
       "3308    1998       1998\n",
       "1032    2013       2013\n",
       "\n",
       "[1285 rows x 2 columns]"
      ]
     },
     "execution_count": 56,
     "metadata": {},
     "output_type": "execute_result"
    }
   ],
   "source": [
    "data = pd.DataFrame({'Actual': y_test, 'Predicted': y_pred})\n",
    "data\n"
   ]
  },
  {
   "cell_type": "markdown",
   "id": "087b1e5d",
   "metadata": {
    "papermill": {
     "duration": 0.09718,
     "end_time": "2021-07-20T06:02:45.845953",
     "exception": false,
     "start_time": "2021-07-20T06:02:45.748773",
     "status": "completed"
    },
    "tags": []
   },
   "source": [
    "# CONCLUSION:\n",
    "\n",
    "**So we get a good accuracy and training score of about 100 % using Random Forest Classifier, XG Boost , Gradient Boosting Classifier.**\n",
    "\n",
    "**The accuracy of other models can be increased by Hypertuning.**"
   ]
  },
  {
   "cell_type": "markdown",
   "id": "8ebb6f02",
   "metadata": {
    "papermill": {
     "duration": 0.098054,
     "end_time": "2021-07-20T06:02:46.042004",
     "exception": false,
     "start_time": "2021-07-20T06:02:45.943950",
     "status": "completed"
    },
    "tags": []
   },
   "source": [
    "# **Thank you** "
   ]
  }
 ],
 "metadata": {
  "kernelspec": {
   "display_name": "Python 3 (ipykernel)",
   "language": "python",
   "name": "python3"
  },
  "language_info": {
   "codemirror_mode": {
    "name": "ipython",
    "version": 3
   },
   "file_extension": ".py",
   "mimetype": "text/x-python",
   "name": "python",
   "nbconvert_exporter": "python",
   "pygments_lexer": "ipython3",
   "version": "3.9.8"
  },
  "papermill": {
   "default_parameters": {},
   "duration": 62.918674,
   "end_time": "2021-07-20T06:02:47.976118",
   "environment_variables": {},
   "exception": null,
   "input_path": "__notebook__.ipynb",
   "output_path": "__notebook__.ipynb",
   "parameters": {},
   "start_time": "2021-07-20T06:01:45.057444",
   "version": "2.3.3"
  }
 },
 "nbformat": 4,
 "nbformat_minor": 5
}
